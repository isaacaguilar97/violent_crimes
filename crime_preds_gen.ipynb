{
 "cells": [
  {
   "cell_type": "code",
   "execution_count": 1,
   "metadata": {},
   "outputs": [],
   "source": [
    "# Load Packages\n",
    "from sklearn.ensemble import RandomForestRegressor\n",
    "import matplotlib.pyplot as plt\n",
    "import pandas as pd\n",
    "import pickle\n",
    "import plotly.express as px\n",
    "import numpy as np"
   ]
  },
  {
   "cell_type": "code",
   "execution_count": 3,
   "metadata": {},
   "outputs": [],
   "source": [
    "# Load the data\n",
    "dataI = pd.read_csv(\"final_table.csv\")"
   ]
  },
  {
   "cell_type": "code",
   "execution_count": 4,
   "metadata": {},
   "outputs": [],
   "source": [
    "# Clean dataS\n",
    "dataI = dataI.drop(columns=['week', 'Arrest', 'Domestic', 'DayofMonth'])\n",
    "dataI['hour'] = dataI['hour'].astype('category')\n",
    "dataI['is_holiday'] = dataI['is_holiday'].apply(lambda x: 1 if x > 0 else 0).astype(\"category\")\n",
    "dataI['is_full_moon'] = dataI['is_full_moon'].apply(lambda x: 1 if x > 0 else 0).astype(\"category\")\n",
    "dataI['is_day'] = dataI['is_day'].apply(lambda x: 1 if x > 0 else 0).astype(\"category\")"
   ]
  },
  {
   "cell_type": "code",
   "execution_count": 5,
   "metadata": {},
   "outputs": [],
   "source": [
    "# Indetify features and response variables\n",
    "X = dataI.iloc[:,:23]\n",
    "Y = dataI.iloc[:,23:]"
   ]
  },
  {
   "cell_type": "code",
   "execution_count": 6,
   "metadata": {},
   "outputs": [],
   "source": [
    "# Make categorical features into dummy variables\n",
    "categorical_features = X.select_dtypes(include=['object', 'category'])\n",
    "def preprocess_and_create_dummies(data):\n",
    "    processed_data = data.copy()\n",
    "    processed_data = pd.get_dummies(processed_data, columns=categorical_features.columns)\n",
    "    return processed_data\n",
    "X= X.pipe(preprocess_and_create_dummies)"
   ]
  },
  {
   "cell_type": "code",
   "execution_count": null,
   "metadata": {},
   "outputs": [],
   "source": [
    "# Fit models\n",
    "\n",
    "num = 1\n",
    "for col in Y.columns:\n",
    "    # Extract the response variable\n",
    "    y = Y[col]\n",
    "    \n",
    "    # Train a random forest model\n",
    "    model = RandomForestRegressor()\n",
    "    model.fit(X, y)\n",
    "    \n",
    "    # Name the model according to the response variable\n",
    "    model_name = col + \"_model\"\n",
    "    \n",
    "    # Store the trained model in the list\n",
    "    with open(model_name, 'wb') as file:\n",
    "        pickle.dump(model, file)\n",
    "\n",
    "    print(f\"Done training model {model_name} - {num}/{len(Y.columns)}\")\n",
    "    num += 1"
   ]
  },
  {
   "cell_type": "code",
   "execution_count": 37,
   "metadata": {},
   "outputs": [],
   "source": [
    "models_path = ['Primary Type_BURGLARY_model.pkl',\n",
    "       'Primary Type_CRIM SEXUAL ASSAULT_model.pkl',\n",
    "       'Primary Type_ASSAULT_model.pkl', 'Primary Type_BATTERY_model.pkl',\n",
    "       'Primary Type_ROBBERY_model.pkl', 'Primary Type_INTIMIDATION_model.pkl',\n",
    "       'Primary Type_HOMICIDE_model.pkl', 'Primary Type_KIDNAPPING_model.pkl',\n",
    "       'Primary Type_HUMAN TRAFFICKING_model.pkl', 'Beat_1111_model.pkl',\n",
    "       'Beat_1112_model.pkl', 'Beat_1113_model.pkl', 'Beat_1114_model.pkl',\n",
    "       'Beat_1115_model.pkl', 'Beat_1121_model.pkl', 'Beat_1122_model.pkl',\n",
    "       'Beat_1123_model.pkl', 'Beat_1124_model.pkl', 'Beat_1125_model.pkl',\n",
    "       'Beat_1131_model.pkl', 'Beat_1132_model.pkl', 'Beat_1133_model.pkl',\n",
    "       'Beat_1134_model.pkl', 'Beat_1135_model.pkl', 'violent_crimes_mod.pkl']\n",
    "trained_models = []\n",
    "for i in models_path:\n",
    "    with open(i, 'rb') as file:\n",
    "        model = pickle.load(file)\n",
    "        name = i.replace('_model.pkl', '')\n",
    "        trained_models.append((name, model))"
   ]
  },
  {
   "cell_type": "code",
   "execution_count": 23,
   "metadata": {},
   "outputs": [],
   "source": [
    "calendar = pd.date_range(start='2024-01-01', end='2024-03-31', freq='H')\n",
    "full_moon_dates = [\n",
    "    \"2024-01-25\",\n",
    "    \"2024-02-24\",\n",
    "    \"2024-03-25\",\n",
    "    \"2024-04-23\",\n",
    "    \"2024-05-23\",\n",
    "    \"2024-06-21\",\n",
    "    \"2024-07-21\",\n",
    "    \"2024-08-19\",\n",
    "    \"2024-09-17\",\n",
    "    \"2024-10-17\",\n",
    "    \"2024-11-15\",\n",
    "    \"2024-12-15\"\n",
    "]\n",
    "\n",
    "holiday_dates = [\n",
    "    \"2024-01-01\",  # New Year's Day\n",
    "    \"2024-01-15\",  # Martin Luther King Jr. Day\n",
    "    \"2024-02-19\",  # Washington's Birthday (Presidents Day)\n",
    "    \"2024-05-27\",  # Memorial Day\n",
    "    \"2024-07-04\",  # Independence Day\n",
    "    \"2024-09-02\",  # Labor Day\n",
    "    \"2024-10-14\",  # Columbus Day\n",
    "    \"2024-11-11\",  # Veterans Day\n",
    "    \"2024-11-28\",  # Thanksgiving Day\n",
    "    \"2024-12-25\"   # Christmas Day\n",
    "]\n",
    "\n",
    "full_calendar = pd.DataFrame({\n",
    "    'Date': calendar,\n",
    "    'Year': calendar.year,\n",
    "    'month': calendar.strftime('%b'),\n",
    "    'DayOfWeek': calendar.strftime('%a'),  # Monday=0, Sunday=6\n",
    "    'hour': calendar.hour.astype('category'),\n",
    "    'Week' : [date.isocalendar()[1] for date in calendar], \n",
    "    'is_holiday': [1 if str(date)[:10] in holiday_dates else 0 for date in calendar],  # Check if date is a holiday\n",
    "    'is_full_moon': [1 if str(date)[:10] in full_moon_dates else 0 for date in calendar]  # Check if date is a full moon\n",
    "})"
   ]
  },
  {
   "cell_type": "code",
   "execution_count": 24,
   "metadata": {},
   "outputs": [],
   "source": [
    "sunrise = [7]*31 + [7]*4 + [6]*25 + [6]*9 + [7]*6 + [6]*16\n",
    "sunset = [16]*27 + [17]*4 + [17]*29 + [17]*9 + [18]*7 + [19]*15\n",
    "full_calendar['is_day'] = full_calendar['hour'].apply(lambda x: 1 if sunrise[x] <= x < sunset[x] else 0).astype('category')\n",
    "full_calendar['is_full_moon'] = full_calendar['is_full_moon'].astype('category')\n",
    "full_calendar['is_holiday'] = full_calendar['is_holiday'].astype('category')"
   ]
  },
  {
   "cell_type": "code",
   "execution_count": 25,
   "metadata": {},
   "outputs": [],
   "source": [
    "week_concatenated = (full_calendar.groupby('Week')['Date'].agg(['first', 'last']).reset_index())\n",
    "week_concatenated['last'] = week_concatenated['last'].dt.date # Remove the hours from the 'last' column\n",
    "week_concatenated['weeks'] = week_concatenated['first'].astype(str) + ' - ' + week_concatenated['last'].astype(str)\n",
    "full_calendar = full_calendar.merge(week_concatenated[['Week', 'weeks']], on='Week', how='left')"
   ]
  },
  {
   "cell_type": "code",
   "execution_count": 26,
   "metadata": {},
   "outputs": [],
   "source": [
    "new_obs_t = full_calendar[full_calendar['weeks'] == \"2024-01-01 - 2024-01-07\"][['Year','month', 'DayOfWeek', 'hour', 'is_holiday', 'is_full_moon', 'is_day']]\n",
    "new_obs = new_obs_t\n",
    "new_obs['moonphase'] = 6\n",
    "new_obs['temperature'] = -122\n",
    "new_obs['humidity'] = 710\n",
    "new_obs['feels_like'] = -188\n",
    "new_obs['rain'] = 0\n",
    "new_obs['snowfall'] = 0\n",
    "new_obs['snow_depth'] = 0.9\n",
    "new_obs['cloud_cover'] = 850\n",
    "new_obs['wind_speed'] = 205\n",
    "new_obs['wind_gusts'] = 335\n",
    "new_obs['shortwave_radiation'] = 0\n",
    "new_obs['direct_radiation'] = 0\n",
    "new_obs['dew'] = -176\n",
    "new_obs['sealevelpressure'] = 10316\n",
    "new_obs['visibility'] = 156\n",
    "new_obs['Unemployment'] = 112"
   ]
  },
  {
   "cell_type": "code",
   "execution_count": 12,
   "metadata": {},
   "outputs": [],
   "source": [
    "categorical_features = new_obs.select_dtypes(include=['object', 'category'])\n",
    "def preprocess_and_create_dummies(data):\n",
    "    processed_data = data.copy()\n",
    "    processed_data = pd.get_dummies(processed_data, columns=categorical_features.columns)\n",
    "    return processed_data\n",
    "new_obs= new_obs.pipe(preprocess_and_create_dummies)\n",
    "\n",
    "# List of columns to add\n",
    "new_columns = ['month_Apr', 'month_Aug', 'month_Dec', 'month_Feb', 'month_Jan', 'month_Jul',\n",
    "               'month_Jun', 'month_Mar', 'month_May', 'month_Nov', 'month_Oct', 'month_Sep']\n",
    "\n",
    "# Add columns if they don't exist already\n",
    "for col in new_columns:\n",
    "    if col not in new_obs.columns:\n",
    "        new_obs[col] = 0\n",
    "\n",
    "# Reorder columns\n",
    "new_obs = new_obs[['Year', 'moonphase', 'temperature', 'humidity', 'feels_like', 'rain',\n",
    "       'snowfall', 'snow_depth', 'cloud_cover', 'wind_speed', 'wind_gusts',\n",
    "       'shortwave_radiation', 'direct_radiation', 'dew', 'sealevelpressure',\n",
    "       'visibility', 'Unemployment', 'month_Apr',\n",
    "       'month_Aug', 'month_Dec', 'month_Feb', 'month_Jan', 'month_Jul',\n",
    "       'month_Jun', 'month_Mar', 'month_May', 'month_Nov', 'month_Oct',\n",
    "       'month_Sep', 'DayOfWeek_Fri', 'DayOfWeek_Mon', 'DayOfWeek_Sat',\n",
    "       'DayOfWeek_Sun', 'DayOfWeek_Thu', 'DayOfWeek_Tue', 'DayOfWeek_Wed',\n",
    "       'hour_0', 'hour_1', 'hour_2', 'hour_3', 'hour_4', 'hour_5', 'hour_6',\n",
    "       'hour_7', 'hour_8', 'hour_9', 'hour_10', 'hour_11', 'hour_12',\n",
    "       'hour_13', 'hour_14', 'hour_15', 'hour_16', 'hour_17', 'hour_18',\n",
    "       'hour_19', 'hour_20', 'hour_21', 'hour_22', 'hour_23', 'is_holiday_0',\n",
    "       'is_holiday_1', 'is_full_moon_0', 'is_full_moon_1', 'is_day_0',\n",
    "       'is_day_1']]"
   ]
  },
  {
   "cell_type": "code",
   "execution_count": 13,
   "metadata": {},
   "outputs": [],
   "source": [
    "# Select the model from the list based on the crime type\n",
    "selected_model = None\n",
    "for model_name, model in vc_models:\n",
    "    if 'Primary Type_' + 'ROBBERY' + '_model' in model_name:\n",
    "        selected_model = model\n",
    "        break\n",
    "\n",
    "predictions = selected_model.predict(new_obs)"
   ]
  },
  {
   "cell_type": "code",
   "execution_count": 14,
   "metadata": {},
   "outputs": [
    {
     "data": {
      "text/plain": [
       "array([[1.57, 1.57, 1.63, 1.79, 1.54, 2.66, 2.74, 1.88, 1.72, 1.51, 1.67,\n",
       "        1.56, 1.53, 2.14, 1.87, 1.59, 2.04, 1.49, 2.28, 1.64, 2.15, 2.12,\n",
       "        1.63, 1.59],\n",
       "       [1.28, 1.32, 1.24, 1.68, 1.24, 2.46, 2.54, 1.78, 1.51, 1.34, 1.44,\n",
       "        1.47, 1.36, 1.77, 1.66, 1.42, 1.72, 1.19, 2.13, 1.35, 1.75, 1.72,\n",
       "        1.33, 1.59],\n",
       "       [1.19, 1.18, 1.1 , 1.54, 1.1 , 2.28, 2.37, 1.59, 1.32, 1.15, 1.25,\n",
       "        1.28, 1.17, 1.57, 1.51, 1.23, 1.62, 1.12, 2.28, 1.21, 1.59, 1.58,\n",
       "        1.19, 1.41],\n",
       "       [1.4 , 1.5 , 1.39, 1.83, 1.39, 2.44, 2.38, 1.66, 1.52, 1.35, 1.45,\n",
       "        1.48, 1.37, 1.78, 1.62, 1.43, 1.9 , 1.39, 2.09, 1.5 , 1.85, 1.9 ,\n",
       "        1.44, 1.66],\n",
       "       [1.32, 1.3 , 1.18, 1.62, 1.18, 2.4 , 2.46, 1.72, 1.45, 1.28, 1.38,\n",
       "        1.41, 1.3 , 1.75, 1.64, 1.36, 1.7 , 1.14, 2.  , 1.29, 1.67, 1.73,\n",
       "        1.27, 1.61],\n",
       "       [1.36, 1.32, 1.24, 1.64, 1.24, 2.41, 2.51, 1.79, 1.52, 1.41, 1.45,\n",
       "        1.44, 1.37, 1.87, 1.71, 1.43, 1.82, 1.2 , 2.26, 1.31, 1.74, 1.73,\n",
       "        1.33, 1.65],\n",
       "       [1.33, 1.32, 1.24, 1.64, 1.23, 2.32, 2.43, 1.72, 1.47, 1.3 , 1.4 ,\n",
       "        1.43, 1.32, 1.72, 1.72, 1.44, 1.72, 1.2 , 2.08, 1.35, 1.79, 1.73,\n",
       "        1.33, 1.49]])"
      ]
     },
     "execution_count": 14,
     "metadata": {},
     "output_type": "execute_result"
    }
   ],
   "source": [
    "# Put predictions next to Day - hour combination\n",
    "matrix = np.array(predictions).reshape(7, 24)"
   ]
  },
  {
   "cell_type": "code",
   "execution_count": 15,
   "metadata": {},
   "outputs": [
    {
     "ename": "ValueError",
     "evalue": "Mime type rendering requires nbformat>=4.2.0 but it is not installed",
     "output_type": "error",
     "traceback": [
      "\u001b[0;31m---------------------------------------------------------------------------\u001b[0m",
      "\u001b[0;31mValueError\u001b[0m                                Traceback (most recent call last)",
      "Cell \u001b[0;32mIn[15], line 9\u001b[0m\n\u001b[1;32m      7\u001b[0m \u001b[38;5;66;03m# Update layout\u001b[39;00m\n\u001b[1;32m      8\u001b[0m fig\u001b[38;5;241m.\u001b[39mupdate_layout(title\u001b[38;5;241m=\u001b[39m\u001b[38;5;124m'\u001b[39m\u001b[38;5;124mViolent Crimes Heatmap\u001b[39m\u001b[38;5;124m'\u001b[39m)\n\u001b[0;32m----> 9\u001b[0m \u001b[43mfig\u001b[49m\u001b[38;5;241;43m.\u001b[39;49m\u001b[43mshow\u001b[49m\u001b[43m(\u001b[49m\u001b[43m)\u001b[49m\n",
      "File \u001b[0;32m~/anaconda3/envs/new_deep/lib/python3.11/site-packages/plotly/basedatatypes.py:3410\u001b[0m, in \u001b[0;36mBaseFigure.show\u001b[0;34m(self, *args, **kwargs)\u001b[0m\n\u001b[1;32m   3377\u001b[0m \u001b[38;5;250m\u001b[39m\u001b[38;5;124;03m\"\"\"\u001b[39;00m\n\u001b[1;32m   3378\u001b[0m \u001b[38;5;124;03mShow a figure using either the default renderer(s) or the renderer(s)\u001b[39;00m\n\u001b[1;32m   3379\u001b[0m \u001b[38;5;124;03mspecified by the renderer argument\u001b[39;00m\n\u001b[0;32m   (...)\u001b[0m\n\u001b[1;32m   3406\u001b[0m \u001b[38;5;124;03mNone\u001b[39;00m\n\u001b[1;32m   3407\u001b[0m \u001b[38;5;124;03m\"\"\"\u001b[39;00m\n\u001b[1;32m   3408\u001b[0m \u001b[38;5;28;01mimport\u001b[39;00m \u001b[38;5;21;01mplotly\u001b[39;00m\u001b[38;5;21;01m.\u001b[39;00m\u001b[38;5;21;01mio\u001b[39;00m \u001b[38;5;28;01mas\u001b[39;00m \u001b[38;5;21;01mpio\u001b[39;00m\n\u001b[0;32m-> 3410\u001b[0m \u001b[38;5;28;01mreturn\u001b[39;00m \u001b[43mpio\u001b[49m\u001b[38;5;241;43m.\u001b[39;49m\u001b[43mshow\u001b[49m\u001b[43m(\u001b[49m\u001b[38;5;28;43mself\u001b[39;49m\u001b[43m,\u001b[49m\u001b[43m \u001b[49m\u001b[38;5;241;43m*\u001b[39;49m\u001b[43margs\u001b[49m\u001b[43m,\u001b[49m\u001b[43m \u001b[49m\u001b[38;5;241;43m*\u001b[39;49m\u001b[38;5;241;43m*\u001b[39;49m\u001b[43mkwargs\u001b[49m\u001b[43m)\u001b[49m\n",
      "File \u001b[0;32m~/anaconda3/envs/new_deep/lib/python3.11/site-packages/plotly/io/_renderers.py:394\u001b[0m, in \u001b[0;36mshow\u001b[0;34m(fig, renderer, validate, **kwargs)\u001b[0m\n\u001b[1;32m    389\u001b[0m         \u001b[38;5;28;01mraise\u001b[39;00m \u001b[38;5;167;01mValueError\u001b[39;00m(\n\u001b[1;32m    390\u001b[0m             \u001b[38;5;124m\"\u001b[39m\u001b[38;5;124mMime type rendering requires ipython but it is not installed\u001b[39m\u001b[38;5;124m\"\u001b[39m\n\u001b[1;32m    391\u001b[0m         )\n\u001b[1;32m    393\u001b[0m     \u001b[38;5;28;01mif\u001b[39;00m \u001b[38;5;129;01mnot\u001b[39;00m nbformat \u001b[38;5;129;01mor\u001b[39;00m Version(nbformat\u001b[38;5;241m.\u001b[39m__version__) \u001b[38;5;241m<\u001b[39m Version(\u001b[38;5;124m\"\u001b[39m\u001b[38;5;124m4.2.0\u001b[39m\u001b[38;5;124m\"\u001b[39m):\n\u001b[0;32m--> 394\u001b[0m         \u001b[38;5;28;01mraise\u001b[39;00m \u001b[38;5;167;01mValueError\u001b[39;00m(\n\u001b[1;32m    395\u001b[0m             \u001b[38;5;124m\"\u001b[39m\u001b[38;5;124mMime type rendering requires nbformat>=4.2.0 but it is not installed\u001b[39m\u001b[38;5;124m\"\u001b[39m\n\u001b[1;32m    396\u001b[0m         )\n\u001b[1;32m    398\u001b[0m     ipython_display\u001b[38;5;241m.\u001b[39mdisplay(bundle, raw\u001b[38;5;241m=\u001b[39m\u001b[38;5;28;01mTrue\u001b[39;00m)\n\u001b[1;32m    400\u001b[0m \u001b[38;5;66;03m# external renderers\u001b[39;00m\n",
      "\u001b[0;31mValueError\u001b[0m: Mime type rendering requires nbformat>=4.2.0 but it is not installed"
     ]
    }
   ],
   "source": [
    "fig = px.imshow(matrix,\n",
    "                labels=dict(x=\"Hour\", y=\"Day\", color=\"Violent Crimes\"),\n",
    "                y=['Mon', 'Tue', 'Wed', 'Thu', 'Fri', 'Sat', 'Sun'],\n",
    "                x=['0', '1', '2', '3', '4', '5', '6', '7', '8', '9', '10', '11', '12',\n",
    "                   '13', '14', '15', '16', '17', '18', '19', '20', '21', '22', '23'])\n",
    "\n",
    "# Update layout\n",
    "fig.update_layout(title='Violent Crimes Heatmap')\n",
    "fig.show()\n"
   ]
  }
 ],
 "metadata": {
  "kernelspec": {
   "display_name": "new_deep",
   "language": "python",
   "name": "python3"
  },
  "language_info": {
   "codemirror_mode": {
    "name": "ipython",
    "version": 3
   },
   "file_extension": ".py",
   "mimetype": "text/x-python",
   "name": "python",
   "nbconvert_exporter": "python",
   "pygments_lexer": "ipython3",
   "version": "3.11.5"
  }
 },
 "nbformat": 4,
 "nbformat_minor": 2
}
