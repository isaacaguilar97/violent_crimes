{
 "cells": [
  {
   "cell_type": "code",
   "execution_count": 1,
   "metadata": {},
   "outputs": [],
   "source": [
    "# Load Packages\n",
    "from sklearn.ensemble import RandomForestRegressor\n",
    "import matplotlib.pyplot as plt\n",
    "import pandas as pd\n",
    "import plotly.express as px\n",
    "import numpy as np\n",
    "import joblib\n",
    "import pickle\n",
    "import statistics as stat"
   ]
  },
  {
   "cell_type": "code",
   "execution_count": 2,
   "metadata": {},
   "outputs": [],
   "source": [
    "# Load the data\n",
    "dataI = pd.read_csv(\"final_table.csv\")"
   ]
  },
  {
   "cell_type": "code",
   "execution_count": 3,
   "metadata": {},
   "outputs": [],
   "source": [
    "# Clean dataS\n",
    "dataI = dataI.drop(columns=['week', 'Arrest', 'Domestic', 'DayofMonth'])\n",
    "dataI['hour'] = dataI['hour'].astype('category')\n",
    "dataI['is_holiday'] = dataI['is_holiday'].apply(lambda x: 1 if x > 0 else 0).astype(\"category\")\n",
    "dataI['is_full_moon'] = dataI['is_full_moon'].apply(lambda x: 1 if x > 0 else 0).astype(\"category\")\n",
    "dataI['is_day'] = dataI['is_day'].apply(lambda x: 1 if x > 0 else 0).astype(\"category\")"
   ]
  },
  {
   "cell_type": "code",
   "execution_count": 4,
   "metadata": {},
   "outputs": [],
   "source": [
    "# Indetify features and response variables\n",
    "X = dataI.iloc[:,:23]\n",
    "Y = dataI.iloc[:,23:]"
   ]
  },
  {
   "cell_type": "code",
   "execution_count": 5,
   "metadata": {},
   "outputs": [],
   "source": [
    "# Make categorical features into dummy variables\n",
    "categorical_features = X.select_dtypes(include=['object', 'category'])\n",
    "def preprocess_and_create_dummies(data):\n",
    "    processed_data = data.copy()\n",
    "    processed_data = pd.get_dummies(processed_data, columns=categorical_features.columns)\n",
    "    return processed_data\n",
    "X= X.pipe(preprocess_and_create_dummies)"
   ]
  },
  {
   "cell_type": "code",
   "execution_count": null,
   "metadata": {},
   "outputs": [],
   "source": [
    "# Fit models\n",
    "\n",
    "num = 1\n",
    "for col in Y.columns:\n",
    "    # Extract the response variable\n",
    "    y = Y[col]\n",
    "    \n",
    "    # Train a random forest model\n",
    "    model = RandomForestRegressor()\n",
    "    model.fit(X, y)\n",
    "    \n",
    "    # Name the model according to the response variable\n",
    "    model_name = col + \"_model.joblib.gz\"\n",
    "    \n",
    "    # Store the trained model in the list\n",
    "    joblib.dump(model, model_name, compress=('gzip', 4))\n",
    "\n",
    "    print(f\"Done training model {model_name} - {num}/{len(Y.columns)}\")\n",
    "    num += 1"
   ]
  },
  {
   "cell_type": "code",
   "execution_count": null,
   "metadata": {},
   "outputs": [],
   "source": [
    "# with open(\"trained_models.pkl\", 'rb') as file:\n",
    "#     trained_models = pickle.load(file)"
   ]
  },
  {
   "cell_type": "code",
   "execution_count": 6,
   "metadata": {},
   "outputs": [],
   "source": [
    "models_path = ['Primary Type_BURGLARY_model.joblib.gz',\n",
    "       'Primary Type_CRIM SEXUAL ASSAULT_model.joblib.gz',\n",
    "       'Primary Type_ROBBERY_model.joblib.gz', 'Primary Type_INTIMIDATION_model.joblib.gz',\n",
    "       'Primary Type_HOMICIDE_model.joblib.gz', 'Primary Type_KIDNAPPING_model.joblib.gz',\n",
    "       'Primary Type_HUMAN TRAFFICKING_model.joblib.gz', 'Beat_1111_model.joblib.gz',\n",
    "       'Beat_1112_model.joblib.gz', 'Beat_1113_model.joblib.gz', 'Beat_1114_model.joblib.gz',\n",
    "       'Beat_1115_model.joblib.gz', 'Beat_1121_model.joblib.gz', 'Beat_1122_model.joblib.gz',\n",
    "       'Beat_1123_model.joblib.gz', 'Beat_1124_model.joblib.gz', 'Beat_1125_model.joblib.gz',\n",
    "       'Beat_1131_model.joblib.gz', 'Beat_1132_model.joblib.gz', 'Beat_1133_model.joblib.gz',\n",
    "       'Beat_1134_model.joblib.gz', 'Beat_1135_model.joblib.gz', 'n_crimes_model.joblib.gz']\n",
    "trained_models = []\n",
    "for file in models_path:\n",
    "    model = joblib.load(file)\n",
    "    name = file.replace('.joblib.gz', '')\n",
    "    trained_models.append((name, model))"
   ]
  },
  {
   "cell_type": "code",
   "execution_count": 9,
   "metadata": {},
   "outputs": [],
   "source": [
    "calendar = pd.date_range(start='2024-01-01', end='2024-03-31', freq='H')\n",
    "full_moon_dates = [\n",
    "    \"2024-01-25\",\n",
    "    \"2024-02-24\",\n",
    "    \"2024-03-25\",\n",
    "    \"2024-04-23\",\n",
    "    \"2024-05-23\",\n",
    "    \"2024-06-21\",\n",
    "    \"2024-07-21\",\n",
    "    \"2024-08-19\",\n",
    "    \"2024-09-17\",\n",
    "    \"2024-10-17\",\n",
    "    \"2024-11-15\",\n",
    "    \"2024-12-15\"\n",
    "]\n",
    "\n",
    "holiday_dates = [\n",
    "    \"2024-01-01\",  # New Year's Day\n",
    "    \"2024-01-15\",  # Martin Luther King Jr. Day\n",
    "    \"2024-02-19\",  # Washington's Birthday (Presidents Day)\n",
    "    \"2024-05-27\",  # Memorial Day\n",
    "    \"2024-07-04\",  # Independence Day\n",
    "    \"2024-09-02\",  # Labor Day\n",
    "    \"2024-10-14\",  # Columbus Day\n",
    "    \"2024-11-11\",  # Veterans Day\n",
    "    \"2024-11-28\",  # Thanksgiving Day\n",
    "    \"2024-12-25\"   # Christmas Day\n",
    "]\n",
    "\n",
    "full_calendar = pd.DataFrame({\n",
    "    'Date': calendar,\n",
    "    'Year': calendar.year,\n",
    "    'month': calendar.strftime('%b'),\n",
    "    'DayOfWeek': calendar.strftime('%a'),  # Monday=0, Sunday=6\n",
    "    'hour': calendar.hour.astype('category'),\n",
    "    'Week' : [date.isocalendar()[1] for date in calendar], \n",
    "    'is_holiday': [1 if str(date)[:10] in holiday_dates else 0 for date in calendar],  # Check if date is a holiday\n",
    "    'is_full_moon': [1 if str(date)[:10] in full_moon_dates else 0 for date in calendar]  # Check if date is a full moon\n",
    "})"
   ]
  },
  {
   "cell_type": "code",
   "execution_count": 10,
   "metadata": {},
   "outputs": [],
   "source": [
    "sunrise = [7]*31 + [7]*4 + [6]*25 + [6]*9 + [7]*6 + [6]*16\n",
    "sunset = [16]*27 + [17]*4 + [17]*29 + [17]*9 + [18]*7 + [19]*15\n",
    "full_calendar['is_day'] = full_calendar['hour'].apply(lambda x: 1 if sunrise[x] <= x < sunset[x] else 0).astype('category')\n",
    "full_calendar['is_full_moon'] = full_calendar['is_full_moon'].astype('category')\n",
    "full_calendar['is_holiday'] = full_calendar['is_holiday'].astype('category')"
   ]
  },
  {
   "cell_type": "code",
   "execution_count": 11,
   "metadata": {},
   "outputs": [],
   "source": [
    "week_concatenated = (full_calendar.groupby('Week')['Date'].agg(['first', 'last']).reset_index())\n",
    "week_concatenated['last'] = week_concatenated['last'].dt.date # Remove the hours from the 'last' column\n",
    "week_concatenated['weeks'] = week_concatenated['first'].astype(str) + ' - ' + week_concatenated['last'].astype(str)\n",
    "full_calendar = full_calendar.merge(week_concatenated[['Week', 'weeks']], on='Week', how='left')"
   ]
  },
  {
   "cell_type": "code",
   "execution_count": 12,
   "metadata": {},
   "outputs": [],
   "source": [
    "new_obs_t = full_calendar[full_calendar['weeks'] == \"2024-01-01 - 2024-01-07\"][['Year','month', 'DayOfWeek', 'hour', 'is_holiday', 'is_full_moon', 'is_day']]\n",
    "new_obs = new_obs_t\n",
    "new_obs['moonphase'] = 6\n",
    "new_obs['temperature'] = -122\n",
    "new_obs['humidity'] = 710\n",
    "new_obs['feels_like'] = -188\n",
    "new_obs['rain'] = 0\n",
    "new_obs['snowfall'] = 0\n",
    "new_obs['snow_depth'] = 0.9\n",
    "new_obs['cloud_cover'] = 850\n",
    "new_obs['wind_speed'] = 205\n",
    "new_obs['wind_gusts'] = 335\n",
    "new_obs['shortwave_radiation'] = 0\n",
    "new_obs['direct_radiation'] = 0\n",
    "new_obs['dew'] = -176\n",
    "new_obs['sealevelpressure'] = 10316\n",
    "new_obs['visibility'] = 156\n",
    "new_obs['Unemployment'] = 112"
   ]
  },
  {
   "cell_type": "code",
   "execution_count": 13,
   "metadata": {},
   "outputs": [],
   "source": [
    "categorical_features = new_obs.select_dtypes(include=['object', 'category'])\n",
    "def preprocess_and_create_dummies(data):\n",
    "    processed_data = data.copy()\n",
    "    processed_data = pd.get_dummies(processed_data, columns=categorical_features.columns)\n",
    "    return processed_data\n",
    "new_obs= new_obs.pipe(preprocess_and_create_dummies)\n",
    "\n",
    "# List of columns to add\n",
    "new_columns = ['month_Apr', 'month_Aug', 'month_Dec', 'month_Feb', 'month_Jan', 'month_Jul',\n",
    "               'month_Jun', 'month_Mar', 'month_May', 'month_Nov', 'month_Oct', 'month_Sep']\n",
    "\n",
    "# Add columns if they don't exist already\n",
    "for col in new_columns:\n",
    "    if col not in new_obs.columns:\n",
    "        new_obs[col] = 0\n",
    "\n",
    "# Reorder columns\n",
    "new_obs = new_obs[['Year', 'moonphase', 'temperature', 'humidity', 'feels_like', 'rain',\n",
    "       'snowfall', 'snow_depth', 'cloud_cover', 'wind_speed', 'wind_gusts',\n",
    "       'shortwave_radiation', 'direct_radiation', 'dew', 'sealevelpressure',\n",
    "       'visibility', 'Unemployment', 'month_Apr',\n",
    "       'month_Aug', 'month_Dec', 'month_Feb', 'month_Jan', 'month_Jul',\n",
    "       'month_Jun', 'month_Mar', 'month_May', 'month_Nov', 'month_Oct',\n",
    "       'month_Sep', 'DayOfWeek_Fri', 'DayOfWeek_Mon', 'DayOfWeek_Sat',\n",
    "       'DayOfWeek_Sun', 'DayOfWeek_Thu', 'DayOfWeek_Tue', 'DayOfWeek_Wed',\n",
    "       'hour_0', 'hour_1', 'hour_2', 'hour_3', 'hour_4', 'hour_5', 'hour_6',\n",
    "       'hour_7', 'hour_8', 'hour_9', 'hour_10', 'hour_11', 'hour_12',\n",
    "       'hour_13', 'hour_14', 'hour_15', 'hour_16', 'hour_17', 'hour_18',\n",
    "       'hour_19', 'hour_20', 'hour_21', 'hour_22', 'hour_23', 'is_holiday_0',\n",
    "       'is_holiday_1', 'is_full_moon_0', 'is_full_moon_1', 'is_day_0',\n",
    "       'is_day_1']]"
   ]
  },
  {
   "cell_type": "code",
   "execution_count": 14,
   "metadata": {},
   "outputs": [],
   "source": [
    "# Select the model from the list based on the crime type\n",
    "selected_model = None\n",
    "for model_name, model in trained_models:\n",
    "    if 'Primary Type_' + 'ROBBERY' + '_model' in model_name:\n",
    "        selected_model = model\n",
    "        break\n",
    "\n",
    "predictions = selected_model.predict(new_obs)"
   ]
  },
  {
   "cell_type": "code",
   "execution_count": 15,
   "metadata": {},
   "outputs": [],
   "source": [
    "# Put predictions next to Day - hour combination\n",
    "matrix = np.array(predictions).reshape(7, 24)"
   ]
  },
  {
   "cell_type": "code",
   "execution_count": 16,
   "metadata": {},
   "outputs": [
    {
     "data": {
      "application/vnd.plotly.v1+json": {
       "config": {
        "plotlyServerURL": "https://plot.ly"
       },
       "data": [
        {
         "coloraxis": "coloraxis",
         "hovertemplate": "Hour: %{x}<br>Day: %{y}<br>Violent Crimes: %{z}<extra></extra>",
         "name": "0",
         "type": "heatmap",
         "x": [
          "0",
          "1",
          "2",
          "3",
          "4",
          "5",
          "6",
          "7",
          "8",
          "9",
          "10",
          "11",
          "12",
          "13",
          "14",
          "15",
          "16",
          "17",
          "18",
          "19",
          "20",
          "21",
          "22",
          "23"
         ],
         "xaxis": "x",
         "y": [
          "Mon",
          "Tue",
          "Wed",
          "Thu",
          "Fri",
          "Sat",
          "Sun"
         ],
         "yaxis": "y",
         "z": [
          [
           1.57,
           1.57,
           1.63,
           1.79,
           1.54,
           2.66,
           2.74,
           1.88,
           1.72,
           1.51,
           1.67,
           1.56,
           1.53,
           2.14,
           1.87,
           1.59,
           2.04,
           1.49,
           2.28,
           1.64,
           2.15,
           2.12,
           1.63,
           1.59
          ],
          [
           1.28,
           1.32,
           1.24,
           1.68,
           1.24,
           2.46,
           2.54,
           1.78,
           1.51,
           1.34,
           1.44,
           1.47,
           1.36,
           1.77,
           1.66,
           1.42,
           1.72,
           1.19,
           2.13,
           1.35,
           1.75,
           1.72,
           1.33,
           1.59
          ],
          [
           1.19,
           1.18,
           1.1,
           1.54,
           1.1,
           2.28,
           2.37,
           1.59,
           1.32,
           1.15,
           1.25,
           1.28,
           1.17,
           1.57,
           1.51,
           1.23,
           1.62,
           1.12,
           2.28,
           1.21,
           1.59,
           1.58,
           1.19,
           1.41
          ],
          [
           1.4,
           1.5,
           1.39,
           1.83,
           1.39,
           2.44,
           2.38,
           1.66,
           1.52,
           1.35,
           1.45,
           1.48,
           1.37,
           1.78,
           1.62,
           1.43,
           1.9,
           1.39,
           2.09,
           1.5,
           1.85,
           1.9,
           1.44,
           1.66
          ],
          [
           1.32,
           1.3,
           1.18,
           1.62,
           1.18,
           2.4,
           2.46,
           1.72,
           1.45,
           1.28,
           1.38,
           1.41,
           1.3,
           1.75,
           1.64,
           1.36,
           1.7,
           1.14,
           2,
           1.29,
           1.67,
           1.73,
           1.27,
           1.61
          ],
          [
           1.36,
           1.32,
           1.24,
           1.64,
           1.24,
           2.41,
           2.51,
           1.79,
           1.52,
           1.41,
           1.45,
           1.44,
           1.37,
           1.87,
           1.71,
           1.43,
           1.82,
           1.2,
           2.26,
           1.31,
           1.74,
           1.73,
           1.33,
           1.65
          ],
          [
           1.33,
           1.32,
           1.24,
           1.64,
           1.23,
           2.32,
           2.43,
           1.72,
           1.47,
           1.3,
           1.4,
           1.43,
           1.32,
           1.72,
           1.72,
           1.44,
           1.72,
           1.2,
           2.08,
           1.35,
           1.79,
           1.73,
           1.33,
           1.49
          ]
         ]
        }
       ],
       "layout": {
        "coloraxis": {
         "colorbar": {
          "title": {
           "text": "Violent Crimes"
          }
         },
         "colorscale": [
          [
           0,
           "#0d0887"
          ],
          [
           0.1111111111111111,
           "#46039f"
          ],
          [
           0.2222222222222222,
           "#7201a8"
          ],
          [
           0.3333333333333333,
           "#9c179e"
          ],
          [
           0.4444444444444444,
           "#bd3786"
          ],
          [
           0.5555555555555556,
           "#d8576b"
          ],
          [
           0.6666666666666666,
           "#ed7953"
          ],
          [
           0.7777777777777778,
           "#fb9f3a"
          ],
          [
           0.8888888888888888,
           "#fdca26"
          ],
          [
           1,
           "#f0f921"
          ]
         ]
        },
        "margin": {
         "t": 60
        },
        "template": {
         "data": {
          "bar": [
           {
            "error_x": {
             "color": "#2a3f5f"
            },
            "error_y": {
             "color": "#2a3f5f"
            },
            "marker": {
             "line": {
              "color": "#E5ECF6",
              "width": 0.5
             },
             "pattern": {
              "fillmode": "overlay",
              "size": 10,
              "solidity": 0.2
             }
            },
            "type": "bar"
           }
          ],
          "barpolar": [
           {
            "marker": {
             "line": {
              "color": "#E5ECF6",
              "width": 0.5
             },
             "pattern": {
              "fillmode": "overlay",
              "size": 10,
              "solidity": 0.2
             }
            },
            "type": "barpolar"
           }
          ],
          "carpet": [
           {
            "aaxis": {
             "endlinecolor": "#2a3f5f",
             "gridcolor": "white",
             "linecolor": "white",
             "minorgridcolor": "white",
             "startlinecolor": "#2a3f5f"
            },
            "baxis": {
             "endlinecolor": "#2a3f5f",
             "gridcolor": "white",
             "linecolor": "white",
             "minorgridcolor": "white",
             "startlinecolor": "#2a3f5f"
            },
            "type": "carpet"
           }
          ],
          "choropleth": [
           {
            "colorbar": {
             "outlinewidth": 0,
             "ticks": ""
            },
            "type": "choropleth"
           }
          ],
          "contour": [
           {
            "colorbar": {
             "outlinewidth": 0,
             "ticks": ""
            },
            "colorscale": [
             [
              0,
              "#0d0887"
             ],
             [
              0.1111111111111111,
              "#46039f"
             ],
             [
              0.2222222222222222,
              "#7201a8"
             ],
             [
              0.3333333333333333,
              "#9c179e"
             ],
             [
              0.4444444444444444,
              "#bd3786"
             ],
             [
              0.5555555555555556,
              "#d8576b"
             ],
             [
              0.6666666666666666,
              "#ed7953"
             ],
             [
              0.7777777777777778,
              "#fb9f3a"
             ],
             [
              0.8888888888888888,
              "#fdca26"
             ],
             [
              1,
              "#f0f921"
             ]
            ],
            "type": "contour"
           }
          ],
          "contourcarpet": [
           {
            "colorbar": {
             "outlinewidth": 0,
             "ticks": ""
            },
            "type": "contourcarpet"
           }
          ],
          "heatmap": [
           {
            "colorbar": {
             "outlinewidth": 0,
             "ticks": ""
            },
            "colorscale": [
             [
              0,
              "#0d0887"
             ],
             [
              0.1111111111111111,
              "#46039f"
             ],
             [
              0.2222222222222222,
              "#7201a8"
             ],
             [
              0.3333333333333333,
              "#9c179e"
             ],
             [
              0.4444444444444444,
              "#bd3786"
             ],
             [
              0.5555555555555556,
              "#d8576b"
             ],
             [
              0.6666666666666666,
              "#ed7953"
             ],
             [
              0.7777777777777778,
              "#fb9f3a"
             ],
             [
              0.8888888888888888,
              "#fdca26"
             ],
             [
              1,
              "#f0f921"
             ]
            ],
            "type": "heatmap"
           }
          ],
          "heatmapgl": [
           {
            "colorbar": {
             "outlinewidth": 0,
             "ticks": ""
            },
            "colorscale": [
             [
              0,
              "#0d0887"
             ],
             [
              0.1111111111111111,
              "#46039f"
             ],
             [
              0.2222222222222222,
              "#7201a8"
             ],
             [
              0.3333333333333333,
              "#9c179e"
             ],
             [
              0.4444444444444444,
              "#bd3786"
             ],
             [
              0.5555555555555556,
              "#d8576b"
             ],
             [
              0.6666666666666666,
              "#ed7953"
             ],
             [
              0.7777777777777778,
              "#fb9f3a"
             ],
             [
              0.8888888888888888,
              "#fdca26"
             ],
             [
              1,
              "#f0f921"
             ]
            ],
            "type": "heatmapgl"
           }
          ],
          "histogram": [
           {
            "marker": {
             "pattern": {
              "fillmode": "overlay",
              "size": 10,
              "solidity": 0.2
             }
            },
            "type": "histogram"
           }
          ],
          "histogram2d": [
           {
            "colorbar": {
             "outlinewidth": 0,
             "ticks": ""
            },
            "colorscale": [
             [
              0,
              "#0d0887"
             ],
             [
              0.1111111111111111,
              "#46039f"
             ],
             [
              0.2222222222222222,
              "#7201a8"
             ],
             [
              0.3333333333333333,
              "#9c179e"
             ],
             [
              0.4444444444444444,
              "#bd3786"
             ],
             [
              0.5555555555555556,
              "#d8576b"
             ],
             [
              0.6666666666666666,
              "#ed7953"
             ],
             [
              0.7777777777777778,
              "#fb9f3a"
             ],
             [
              0.8888888888888888,
              "#fdca26"
             ],
             [
              1,
              "#f0f921"
             ]
            ],
            "type": "histogram2d"
           }
          ],
          "histogram2dcontour": [
           {
            "colorbar": {
             "outlinewidth": 0,
             "ticks": ""
            },
            "colorscale": [
             [
              0,
              "#0d0887"
             ],
             [
              0.1111111111111111,
              "#46039f"
             ],
             [
              0.2222222222222222,
              "#7201a8"
             ],
             [
              0.3333333333333333,
              "#9c179e"
             ],
             [
              0.4444444444444444,
              "#bd3786"
             ],
             [
              0.5555555555555556,
              "#d8576b"
             ],
             [
              0.6666666666666666,
              "#ed7953"
             ],
             [
              0.7777777777777778,
              "#fb9f3a"
             ],
             [
              0.8888888888888888,
              "#fdca26"
             ],
             [
              1,
              "#f0f921"
             ]
            ],
            "type": "histogram2dcontour"
           }
          ],
          "mesh3d": [
           {
            "colorbar": {
             "outlinewidth": 0,
             "ticks": ""
            },
            "type": "mesh3d"
           }
          ],
          "parcoords": [
           {
            "line": {
             "colorbar": {
              "outlinewidth": 0,
              "ticks": ""
             }
            },
            "type": "parcoords"
           }
          ],
          "pie": [
           {
            "automargin": true,
            "type": "pie"
           }
          ],
          "scatter": [
           {
            "fillpattern": {
             "fillmode": "overlay",
             "size": 10,
             "solidity": 0.2
            },
            "type": "scatter"
           }
          ],
          "scatter3d": [
           {
            "line": {
             "colorbar": {
              "outlinewidth": 0,
              "ticks": ""
             }
            },
            "marker": {
             "colorbar": {
              "outlinewidth": 0,
              "ticks": ""
             }
            },
            "type": "scatter3d"
           }
          ],
          "scattercarpet": [
           {
            "marker": {
             "colorbar": {
              "outlinewidth": 0,
              "ticks": ""
             }
            },
            "type": "scattercarpet"
           }
          ],
          "scattergeo": [
           {
            "marker": {
             "colorbar": {
              "outlinewidth": 0,
              "ticks": ""
             }
            },
            "type": "scattergeo"
           }
          ],
          "scattergl": [
           {
            "marker": {
             "colorbar": {
              "outlinewidth": 0,
              "ticks": ""
             }
            },
            "type": "scattergl"
           }
          ],
          "scattermapbox": [
           {
            "marker": {
             "colorbar": {
              "outlinewidth": 0,
              "ticks": ""
             }
            },
            "type": "scattermapbox"
           }
          ],
          "scatterpolar": [
           {
            "marker": {
             "colorbar": {
              "outlinewidth": 0,
              "ticks": ""
             }
            },
            "type": "scatterpolar"
           }
          ],
          "scatterpolargl": [
           {
            "marker": {
             "colorbar": {
              "outlinewidth": 0,
              "ticks": ""
             }
            },
            "type": "scatterpolargl"
           }
          ],
          "scatterternary": [
           {
            "marker": {
             "colorbar": {
              "outlinewidth": 0,
              "ticks": ""
             }
            },
            "type": "scatterternary"
           }
          ],
          "surface": [
           {
            "colorbar": {
             "outlinewidth": 0,
             "ticks": ""
            },
            "colorscale": [
             [
              0,
              "#0d0887"
             ],
             [
              0.1111111111111111,
              "#46039f"
             ],
             [
              0.2222222222222222,
              "#7201a8"
             ],
             [
              0.3333333333333333,
              "#9c179e"
             ],
             [
              0.4444444444444444,
              "#bd3786"
             ],
             [
              0.5555555555555556,
              "#d8576b"
             ],
             [
              0.6666666666666666,
              "#ed7953"
             ],
             [
              0.7777777777777778,
              "#fb9f3a"
             ],
             [
              0.8888888888888888,
              "#fdca26"
             ],
             [
              1,
              "#f0f921"
             ]
            ],
            "type": "surface"
           }
          ],
          "table": [
           {
            "cells": {
             "fill": {
              "color": "#EBF0F8"
             },
             "line": {
              "color": "white"
             }
            },
            "header": {
             "fill": {
              "color": "#C8D4E3"
             },
             "line": {
              "color": "white"
             }
            },
            "type": "table"
           }
          ]
         },
         "layout": {
          "annotationdefaults": {
           "arrowcolor": "#2a3f5f",
           "arrowhead": 0,
           "arrowwidth": 1
          },
          "autotypenumbers": "strict",
          "coloraxis": {
           "colorbar": {
            "outlinewidth": 0,
            "ticks": ""
           }
          },
          "colorscale": {
           "diverging": [
            [
             0,
             "#8e0152"
            ],
            [
             0.1,
             "#c51b7d"
            ],
            [
             0.2,
             "#de77ae"
            ],
            [
             0.3,
             "#f1b6da"
            ],
            [
             0.4,
             "#fde0ef"
            ],
            [
             0.5,
             "#f7f7f7"
            ],
            [
             0.6,
             "#e6f5d0"
            ],
            [
             0.7,
             "#b8e186"
            ],
            [
             0.8,
             "#7fbc41"
            ],
            [
             0.9,
             "#4d9221"
            ],
            [
             1,
             "#276419"
            ]
           ],
           "sequential": [
            [
             0,
             "#0d0887"
            ],
            [
             0.1111111111111111,
             "#46039f"
            ],
            [
             0.2222222222222222,
             "#7201a8"
            ],
            [
             0.3333333333333333,
             "#9c179e"
            ],
            [
             0.4444444444444444,
             "#bd3786"
            ],
            [
             0.5555555555555556,
             "#d8576b"
            ],
            [
             0.6666666666666666,
             "#ed7953"
            ],
            [
             0.7777777777777778,
             "#fb9f3a"
            ],
            [
             0.8888888888888888,
             "#fdca26"
            ],
            [
             1,
             "#f0f921"
            ]
           ],
           "sequentialminus": [
            [
             0,
             "#0d0887"
            ],
            [
             0.1111111111111111,
             "#46039f"
            ],
            [
             0.2222222222222222,
             "#7201a8"
            ],
            [
             0.3333333333333333,
             "#9c179e"
            ],
            [
             0.4444444444444444,
             "#bd3786"
            ],
            [
             0.5555555555555556,
             "#d8576b"
            ],
            [
             0.6666666666666666,
             "#ed7953"
            ],
            [
             0.7777777777777778,
             "#fb9f3a"
            ],
            [
             0.8888888888888888,
             "#fdca26"
            ],
            [
             1,
             "#f0f921"
            ]
           ]
          },
          "colorway": [
           "#636efa",
           "#EF553B",
           "#00cc96",
           "#ab63fa",
           "#FFA15A",
           "#19d3f3",
           "#FF6692",
           "#B6E880",
           "#FF97FF",
           "#FECB52"
          ],
          "font": {
           "color": "#2a3f5f"
          },
          "geo": {
           "bgcolor": "white",
           "lakecolor": "white",
           "landcolor": "#E5ECF6",
           "showlakes": true,
           "showland": true,
           "subunitcolor": "white"
          },
          "hoverlabel": {
           "align": "left"
          },
          "hovermode": "closest",
          "mapbox": {
           "style": "light"
          },
          "paper_bgcolor": "white",
          "plot_bgcolor": "#E5ECF6",
          "polar": {
           "angularaxis": {
            "gridcolor": "white",
            "linecolor": "white",
            "ticks": ""
           },
           "bgcolor": "#E5ECF6",
           "radialaxis": {
            "gridcolor": "white",
            "linecolor": "white",
            "ticks": ""
           }
          },
          "scene": {
           "xaxis": {
            "backgroundcolor": "#E5ECF6",
            "gridcolor": "white",
            "gridwidth": 2,
            "linecolor": "white",
            "showbackground": true,
            "ticks": "",
            "zerolinecolor": "white"
           },
           "yaxis": {
            "backgroundcolor": "#E5ECF6",
            "gridcolor": "white",
            "gridwidth": 2,
            "linecolor": "white",
            "showbackground": true,
            "ticks": "",
            "zerolinecolor": "white"
           },
           "zaxis": {
            "backgroundcolor": "#E5ECF6",
            "gridcolor": "white",
            "gridwidth": 2,
            "linecolor": "white",
            "showbackground": true,
            "ticks": "",
            "zerolinecolor": "white"
           }
          },
          "shapedefaults": {
           "line": {
            "color": "#2a3f5f"
           }
          },
          "ternary": {
           "aaxis": {
            "gridcolor": "white",
            "linecolor": "white",
            "ticks": ""
           },
           "baxis": {
            "gridcolor": "white",
            "linecolor": "white",
            "ticks": ""
           },
           "bgcolor": "#E5ECF6",
           "caxis": {
            "gridcolor": "white",
            "linecolor": "white",
            "ticks": ""
           }
          },
          "title": {
           "x": 0.05
          },
          "xaxis": {
           "automargin": true,
           "gridcolor": "white",
           "linecolor": "white",
           "ticks": "",
           "title": {
            "standoff": 15
           },
           "zerolinecolor": "white",
           "zerolinewidth": 2
          },
          "yaxis": {
           "automargin": true,
           "gridcolor": "white",
           "linecolor": "white",
           "ticks": "",
           "title": {
            "standoff": 15
           },
           "zerolinecolor": "white",
           "zerolinewidth": 2
          }
         }
        },
        "title": {
         "text": "Violent Crimes Heatmap"
        },
        "xaxis": {
         "anchor": "y",
         "constrain": "domain",
         "domain": [
          0,
          1
         ],
         "scaleanchor": "y",
         "title": {
          "text": "Hour"
         }
        },
        "yaxis": {
         "anchor": "x",
         "autorange": "reversed",
         "constrain": "domain",
         "domain": [
          0,
          1
         ],
         "title": {
          "text": "Day"
         }
        }
       }
      }
     },
     "metadata": {},
     "output_type": "display_data"
    }
   ],
   "source": [
    "fig = px.imshow(matrix,\n",
    "                labels=dict(x=\"Hour\", y=\"Day\", color=\"Violent Crimes\"),\n",
    "                y=['Mon', 'Tue', 'Wed', 'Thu', 'Fri', 'Sat', 'Sun'],\n",
    "                x=['0', '1', '2', '3', '4', '5', '6', '7', '8', '9', '10', '11', '12',\n",
    "                   '13', '14', '15', '16', '17', '18', '19', '20', '21', '22', '23'])\n",
    "\n",
    "# Update layout\n",
    "fig.update_layout(title='Violent Crimes Heatmap')\n",
    "fig.show()\n"
   ]
  },
  {
   "cell_type": "code",
   "execution_count": 17,
   "metadata": {},
   "outputs": [
    {
     "name": "stdout",
     "output_type": "stream",
     "text": [
      "<class 'pandas.core.frame.DataFrame'>\n",
      "RangeIndex: 61074 entries, 0 to 61073\n",
      "Data columns (total 66 columns):\n",
      " #   Column               Non-Null Count  Dtype  \n",
      "---  ------               --------------  -----  \n",
      " 0   Year                 61074 non-null  int64  \n",
      " 1   moonphase            61074 non-null  float64\n",
      " 2   temperature          61074 non-null  float64\n",
      " 3   humidity             61074 non-null  int64  \n",
      " 4   feels_like           61074 non-null  float64\n",
      " 5   rain                 61074 non-null  float64\n",
      " 6   snowfall             61074 non-null  float64\n",
      " 7   snow_depth           61074 non-null  float64\n",
      " 8   cloud_cover          61074 non-null  int64  \n",
      " 9   wind_speed           61074 non-null  float64\n",
      " 10  wind_gusts           61074 non-null  float64\n",
      " 11  shortwave_radiation  61074 non-null  float64\n",
      " 12  direct_radiation     61074 non-null  float64\n",
      " 13  dew                  61074 non-null  float64\n",
      " 14  sealevelpressure     61074 non-null  float64\n",
      " 15  visibility           61074 non-null  float64\n",
      " 16  Unemployment         61074 non-null  float64\n",
      " 17  month_Apr            61074 non-null  bool   \n",
      " 18  month_Aug            61074 non-null  bool   \n",
      " 19  month_Dec            61074 non-null  bool   \n",
      " 20  month_Feb            61074 non-null  bool   \n",
      " 21  month_Jan            61074 non-null  bool   \n",
      " 22  month_Jul            61074 non-null  bool   \n",
      " 23  month_Jun            61074 non-null  bool   \n",
      " 24  month_Mar            61074 non-null  bool   \n",
      " 25  month_May            61074 non-null  bool   \n",
      " 26  month_Nov            61074 non-null  bool   \n",
      " 27  month_Oct            61074 non-null  bool   \n",
      " 28  month_Sep            61074 non-null  bool   \n",
      " 29  DayOfWeek_Fri        61074 non-null  bool   \n",
      " 30  DayOfWeek_Mon        61074 non-null  bool   \n",
      " 31  DayOfWeek_Sat        61074 non-null  bool   \n",
      " 32  DayOfWeek_Sun        61074 non-null  bool   \n",
      " 33  DayOfWeek_Thu        61074 non-null  bool   \n",
      " 34  DayOfWeek_Tue        61074 non-null  bool   \n",
      " 35  DayOfWeek_Wed        61074 non-null  bool   \n",
      " 36  hour_0               61074 non-null  bool   \n",
      " 37  hour_1               61074 non-null  bool   \n",
      " 38  hour_2               61074 non-null  bool   \n",
      " 39  hour_3               61074 non-null  bool   \n",
      " 40  hour_4               61074 non-null  bool   \n",
      " 41  hour_5               61074 non-null  bool   \n",
      " 42  hour_6               61074 non-null  bool   \n",
      " 43  hour_7               61074 non-null  bool   \n",
      " 44  hour_8               61074 non-null  bool   \n",
      " 45  hour_9               61074 non-null  bool   \n",
      " 46  hour_10              61074 non-null  bool   \n",
      " 47  hour_11              61074 non-null  bool   \n",
      " 48  hour_12              61074 non-null  bool   \n",
      " 49  hour_13              61074 non-null  bool   \n",
      " 50  hour_14              61074 non-null  bool   \n",
      " 51  hour_15              61074 non-null  bool   \n",
      " 52  hour_16              61074 non-null  bool   \n",
      " 53  hour_17              61074 non-null  bool   \n",
      " 54  hour_18              61074 non-null  bool   \n",
      " 55  hour_19              61074 non-null  bool   \n",
      " 56  hour_20              61074 non-null  bool   \n",
      " 57  hour_21              61074 non-null  bool   \n",
      " 58  hour_22              61074 non-null  bool   \n",
      " 59  hour_23              61074 non-null  bool   \n",
      " 60  is_holiday_0         61074 non-null  bool   \n",
      " 61  is_holiday_1         61074 non-null  bool   \n",
      " 62  is_full_moon_0       61074 non-null  bool   \n",
      " 63  is_full_moon_1       61074 non-null  bool   \n",
      " 64  is_day_0             61074 non-null  bool   \n",
      " 65  is_day_1             61074 non-null  bool   \n",
      "dtypes: bool(49), float64(14), int64(3)\n",
      "memory usage: 10.8 MB\n"
     ]
    }
   ],
   "source": [
    "X.info()"
   ]
  }
 ],
 "metadata": {
  "kernelspec": {
   "display_name": "new_deep",
   "language": "python",
   "name": "python3"
  },
  "language_info": {
   "codemirror_mode": {
    "name": "ipython",
    "version": 3
   },
   "file_extension": ".py",
   "mimetype": "text/x-python",
   "name": "python",
   "nbconvert_exporter": "python",
   "pygments_lexer": "ipython3",
   "version": "3.11.5"
  }
 },
 "nbformat": 4,
 "nbformat_minor": 2
}
