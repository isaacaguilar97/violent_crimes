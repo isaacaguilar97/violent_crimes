{
 "cells": [
  {
   "cell_type": "code",
   "execution_count": 1,
   "metadata": {},
   "outputs": [],
   "source": [
    "# Load Packages\n",
    "from sklearn.ensemble import RandomForestRegressor\n",
    "import matplotlib.pyplot as plt\n",
    "import pandas as pd\n",
    "import plotly.express as px\n",
    "import numpy as np\n",
    "import joblib\n",
    "import pickle\n",
    "import statistics as stat"
   ]
  },
  {
   "cell_type": "code",
   "execution_count": 97,
   "metadata": {},
   "outputs": [],
   "source": [
    "# Load the data\n",
    "dataI = pd.read_csv(\"final_table.csv\")\n",
    "beat_df = pd.read_csv(\"beat_table.csv\")"
   ]
  },
  {
   "cell_type": "code",
   "execution_count": 83,
   "metadata": {},
   "outputs": [],
   "source": [
    "# Clean dataS\n",
    "dataI = dataI.drop(columns=['week', 'Arrest', 'Domestic', 'DayofMonth'])\n",
    "dataI['hour'] = dataI['hour'].astype('category')\n",
    "dataI['is_holiday'] = dataI['is_holiday'].apply(lambda x: 1 if x > 0 else 0).astype(\"category\")\n",
    "dataI['is_full_moon'] = dataI['is_full_moon'].apply(lambda x: 1 if x > 0 else 0).astype(\"category\")\n",
    "dataI['is_day'] = dataI['is_day'].apply(lambda x: 1 if x > 0 else 0).astype(\"category\")"
   ]
  },
  {
   "cell_type": "code",
   "execution_count": 84,
   "metadata": {},
   "outputs": [],
   "source": [
    "# Indetify features and response variables\n",
    "X = dataI.iloc[:,:23]\n",
    "Y = dataI.iloc[:,23:]"
   ]
  },
  {
   "cell_type": "code",
   "execution_count": 85,
   "metadata": {},
   "outputs": [],
   "source": [
    "# Make categorical features into dummy variables\n",
    "categorical_features = X.select_dtypes(include=['object', 'category'])\n",
    "def preprocess_and_create_dummies(data):\n",
    "    processed_data = data.copy()\n",
    "    processed_data = pd.get_dummies(processed_data, columns=categorical_features.columns)\n",
    "    return processed_data\n",
    "X= X.pipe(preprocess_and_create_dummies)"
   ]
  },
  {
   "cell_type": "code",
   "execution_count": null,
   "metadata": {},
   "outputs": [],
   "source": [
    "# Fit models\n",
    "\n",
    "num = 1\n",
    "for col in Y.columns:\n",
    "    # Extract the response variable\n",
    "    y = Y[col]\n",
    "    \n",
    "    # Train a random forest model\n",
    "    model = RandomForestRegressor()\n",
    "    model.fit(X, y)\n",
    "    \n",
    "    # Name the model according to the response variable\n",
    "    model_name = col + \"_model.joblib.gz\"\n",
    "    \n",
    "    # Store the trained model in the list\n",
    "    joblib.dump(model, model_name, compress=('gzip', 4))\n",
    "\n",
    "    print(f\"Done training model {model_name} - {num}/{len(Y.columns)}\")\n",
    "    num += 1"
   ]
  },
  {
   "cell_type": "code",
   "execution_count": null,
   "metadata": {},
   "outputs": [],
   "source": [
    "# with open(\"trained_models.pkl\", 'rb') as file:\n",
    "#     trained_models = pickle.load(file)"
   ]
  },
  {
   "cell_type": "code",
   "execution_count": 6,
   "metadata": {},
   "outputs": [],
   "source": [
    "models_path = ['Primary Type_BURGLARY_model.joblib.gz',\n",
    "       'Primary Type_CRIM SEXUAL ASSAULT_model.joblib.gz',\n",
    "       'Primary Type_ROBBERY_model.joblib.gz', 'Primary Type_INTIMIDATION_model.joblib.gz',\n",
    "       'Primary Type_HOMICIDE_model.joblib.gz', 'Primary Type_KIDNAPPING_model.joblib.gz',\n",
    "       'Primary Type_HUMAN TRAFFICKING_model.joblib.gz', 'Beat_1111_model.joblib.gz',\n",
    "       'Beat_1112_model.joblib.gz', 'Beat_1113_model.joblib.gz', 'Beat_1114_model.joblib.gz',\n",
    "       'Beat_1115_model.joblib.gz', 'Beat_1121_model.joblib.gz', 'Beat_1122_model.joblib.gz',\n",
    "       'Beat_1123_model.joblib.gz', 'Beat_1124_model.joblib.gz', 'Beat_1125_model.joblib.gz',\n",
    "       'Beat_1131_model.joblib.gz', 'Beat_1132_model.joblib.gz', 'Beat_1133_model.joblib.gz',\n",
    "       'Beat_1134_model.joblib.gz', 'Beat_1135_model.joblib.gz', 'n_crimes_model.joblib.gz']\n",
    "trained_models = []\n",
    "for file in models_path:\n",
    "    model = joblib.load(file)\n",
    "    name = file.replace('.joblib.gz', '')\n",
    "    trained_models.append((name, model))"
   ]
  },
  {
   "cell_type": "code",
   "execution_count": 9,
   "metadata": {},
   "outputs": [],
   "source": [
    "calendar = pd.date_range(start='2024-01-01', end='2024-03-31', freq='H')\n",
    "full_moon_dates = [\n",
    "    \"2024-01-25\",\n",
    "    \"2024-02-24\",\n",
    "    \"2024-03-25\",\n",
    "    \"2024-04-23\",\n",
    "    \"2024-05-23\",\n",
    "    \"2024-06-21\",\n",
    "    \"2024-07-21\",\n",
    "    \"2024-08-19\",\n",
    "    \"2024-09-17\",\n",
    "    \"2024-10-17\",\n",
    "    \"2024-11-15\",\n",
    "    \"2024-12-15\"\n",
    "]\n",
    "\n",
    "holiday_dates = [\n",
    "    \"2024-01-01\",  # New Year's Day\n",
    "    \"2024-01-15\",  # Martin Luther King Jr. Day\n",
    "    \"2024-02-19\",  # Washington's Birthday (Presidents Day)\n",
    "    \"2024-05-27\",  # Memorial Day\n",
    "    \"2024-07-04\",  # Independence Day\n",
    "    \"2024-09-02\",  # Labor Day\n",
    "    \"2024-10-14\",  # Columbus Day\n",
    "    \"2024-11-11\",  # Veterans Day\n",
    "    \"2024-11-28\",  # Thanksgiving Day\n",
    "    \"2024-12-25\"   # Christmas Day\n",
    "]\n",
    "\n",
    "full_calendar = pd.DataFrame({\n",
    "    'Date': calendar,\n",
    "    'Year': calendar.year,\n",
    "    'month': calendar.strftime('%b'),\n",
    "    'DayOfWeek': calendar.strftime('%a'),  # Monday=0, Sunday=6\n",
    "    'hour': calendar.hour.astype('category'),\n",
    "    'Week' : [date.isocalendar()[1] for date in calendar], \n",
    "    'is_holiday': [1 if str(date)[:10] in holiday_dates else 0 for date in calendar],  # Check if date is a holiday\n",
    "    'is_full_moon': [1 if str(date)[:10] in full_moon_dates else 0 for date in calendar]  # Check if date is a full moon\n",
    "})"
   ]
  },
  {
   "cell_type": "code",
   "execution_count": 10,
   "metadata": {},
   "outputs": [],
   "source": [
    "sunrise = [7]*31 + [7]*4 + [6]*25 + [6]*9 + [7]*6 + [6]*16\n",
    "sunset = [16]*27 + [17]*4 + [17]*29 + [17]*9 + [18]*7 + [19]*15\n",
    "full_calendar['is_day'] = full_calendar['hour'].apply(lambda x: 1 if sunrise[x] <= x < sunset[x] else 0).astype('category')\n",
    "full_calendar['is_full_moon'] = full_calendar['is_full_moon'].astype('category')\n",
    "full_calendar['is_holiday'] = full_calendar['is_holiday'].astype('category')"
   ]
  },
  {
   "cell_type": "code",
   "execution_count": 11,
   "metadata": {},
   "outputs": [],
   "source": [
    "week_concatenated = (full_calendar.groupby('Week')['Date'].agg(['first', 'last']).reset_index())\n",
    "week_concatenated['last'] = week_concatenated['last'].dt.date # Remove the hours from the 'last' column\n",
    "week_concatenated['weeks'] = week_concatenated['first'].astype(str) + ' - ' + week_concatenated['last'].astype(str)\n",
    "full_calendar = full_calendar.merge(week_concatenated[['Week', 'weeks']], on='Week', how='left')"
   ]
  },
  {
   "cell_type": "code",
   "execution_count": 12,
   "metadata": {},
   "outputs": [],
   "source": [
    "new_obs_t = full_calendar[full_calendar['weeks'] == \"2024-01-01 - 2024-01-07\"][['Year','month', 'DayOfWeek', 'hour', 'is_holiday', 'is_full_moon', 'is_day']]\n",
    "new_obs = new_obs_t\n",
    "new_obs['moonphase'] = 6\n",
    "new_obs['temperature'] = -122\n",
    "new_obs['humidity'] = 710\n",
    "new_obs['feels_like'] = -188\n",
    "new_obs['rain'] = 0\n",
    "new_obs['snowfall'] = 0\n",
    "new_obs['snow_depth'] = 0.9\n",
    "new_obs['cloud_cover'] = 850\n",
    "new_obs['wind_speed'] = 205\n",
    "new_obs['wind_gusts'] = 335\n",
    "new_obs['shortwave_radiation'] = 0\n",
    "new_obs['direct_radiation'] = 0\n",
    "new_obs['dew'] = -176\n",
    "new_obs['sealevelpressure'] = 10316\n",
    "new_obs['visibility'] = 156\n",
    "new_obs['Unemployment'] = 112"
   ]
  },
  {
   "cell_type": "code",
   "execution_count": 13,
   "metadata": {},
   "outputs": [],
   "source": [
    "categorical_features = new_obs.select_dtypes(include=['object', 'category'])\n",
    "def preprocess_and_create_dummies(data):\n",
    "    processed_data = data.copy()\n",
    "    processed_data = pd.get_dummies(processed_data, columns=categorical_features.columns)\n",
    "    return processed_data\n",
    "new_obs= new_obs.pipe(preprocess_and_create_dummies)\n",
    "\n",
    "# List of columns to add\n",
    "new_columns = ['month_Apr', 'month_Aug', 'month_Dec', 'month_Feb', 'month_Jan', 'month_Jul',\n",
    "               'month_Jun', 'month_Mar', 'month_May', 'month_Nov', 'month_Oct', 'month_Sep']\n",
    "\n",
    "# Add columns if they don't exist already\n",
    "for col in new_columns:\n",
    "    if col not in new_obs.columns:\n",
    "        new_obs[col] = 0\n",
    "\n",
    "# Reorder columns\n",
    "new_obs = new_obs[['Year', 'moonphase', 'temperature', 'humidity', 'feels_like', 'rain',\n",
    "       'snowfall', 'snow_depth', 'cloud_cover', 'wind_speed', 'wind_gusts',\n",
    "       'shortwave_radiation', 'direct_radiation', 'dew', 'sealevelpressure',\n",
    "       'visibility', 'Unemployment', 'month_Apr',\n",
    "       'month_Aug', 'month_Dec', 'month_Feb', 'month_Jan', 'month_Jul',\n",
    "       'month_Jun', 'month_Mar', 'month_May', 'month_Nov', 'month_Oct',\n",
    "       'month_Sep', 'DayOfWeek_Fri', 'DayOfWeek_Mon', 'DayOfWeek_Sat',\n",
    "       'DayOfWeek_Sun', 'DayOfWeek_Thu', 'DayOfWeek_Tue', 'DayOfWeek_Wed',\n",
    "       'hour_0', 'hour_1', 'hour_2', 'hour_3', 'hour_4', 'hour_5', 'hour_6',\n",
    "       'hour_7', 'hour_8', 'hour_9', 'hour_10', 'hour_11', 'hour_12',\n",
    "       'hour_13', 'hour_14', 'hour_15', 'hour_16', 'hour_17', 'hour_18',\n",
    "       'hour_19', 'hour_20', 'hour_21', 'hour_22', 'hour_23', 'is_holiday_0',\n",
    "       'is_holiday_1', 'is_full_moon_0', 'is_full_moon_1', 'is_day_0',\n",
    "       'is_day_1']]"
   ]
  },
  {
   "cell_type": "code",
   "execution_count": 14,
   "metadata": {},
   "outputs": [],
   "source": [
    "# Select the model from the list based on the crime type\n",
    "selected_model = None\n",
    "for model_name, model in trained_models:\n",
    "    if 'Primary Type_' + 'ROBBERY' + '_model' in model_name:\n",
    "        selected_model = model\n",
    "        break\n",
    "\n",
    "predictions = selected_model.predict(new_obs)"
   ]
  },
  {
   "cell_type": "code",
   "execution_count": 15,
   "metadata": {},
   "outputs": [],
   "source": [
    "# Put predictions next to Day - hour combination\n",
    "matrix = np.array(predictions).reshape(7, 24)"
   ]
  },
  {
   "cell_type": "code",
   "execution_count": 16,
   "metadata": {},
   "outputs": [
    {
     "data": {
      "application/vnd.plotly.v1+json": {
       "config": {
        "plotlyServerURL": "https://plot.ly"
       },
       "data": [
        {
         "coloraxis": "coloraxis",
         "hovertemplate": "Hour: %{x}<br>Day: %{y}<br>Violent Crimes: %{z}<extra></extra>",
         "name": "0",
         "type": "heatmap",
         "x": [
          "0",
          "1",
          "2",
          "3",
          "4",
          "5",
          "6",
          "7",
          "8",
          "9",
          "10",
          "11",
          "12",
          "13",
          "14",
          "15",
          "16",
          "17",
          "18",
          "19",
          "20",
          "21",
          "22",
          "23"
         ],
         "xaxis": "x",
         "y": [
          "Mon",
          "Tue",
          "Wed",
          "Thu",
          "Fri",
          "Sat",
          "Sun"
         ],
         "yaxis": "y",
         "z": [
          [
           1.57,
           1.57,
           1.63,
           1.79,
           1.54,
           2.66,
           2.74,
           1.88,
           1.72,
           1.51,
           1.67,
           1.56,
           1.53,
           2.14,
           1.87,
           1.59,
           2.04,
           1.49,
           2.28,
           1.64,
           2.15,
           2.12,
           1.63,
           1.59
          ],
          [
           1.28,
           1.32,
           1.24,
           1.68,
           1.24,
           2.46,
           2.54,
           1.78,
           1.51,
           1.34,
           1.44,
           1.47,
           1.36,
           1.77,
           1.66,
           1.42,
           1.72,
           1.19,
           2.13,
           1.35,
           1.75,
           1.72,
           1.33,
           1.59
          ],
          [
           1.19,
           1.18,
           1.1,
           1.54,
           1.1,
           2.28,
           2.37,
           1.59,
           1.32,
           1.15,
           1.25,
           1.28,
           1.17,
           1.57,
           1.51,
           1.23,
           1.62,
           1.12,
           2.28,
           1.21,
           1.59,
           1.58,
           1.19,
           1.41
          ],
          [
           1.4,
           1.5,
           1.39,
           1.83,
           1.39,
           2.44,
           2.38,
           1.66,
           1.52,
           1.35,
           1.45,
           1.48,
           1.37,
           1.78,
           1.62,
           1.43,
           1.9,
           1.39,
           2.09,
           1.5,
           1.85,
           1.9,
           1.44,
           1.66
          ],
          [
           1.32,
           1.3,
           1.18,
           1.62,
           1.18,
           2.4,
           2.46,
           1.72,
           1.45,
           1.28,
           1.38,
           1.41,
           1.3,
           1.75,
           1.64,
           1.36,
           1.7,
           1.14,
           2,
           1.29,
           1.67,
           1.73,
           1.27,
           1.61
          ],
          [
           1.36,
           1.32,
           1.24,
           1.64,
           1.24,
           2.41,
           2.51,
           1.79,
           1.52,
           1.41,
           1.45,
           1.44,
           1.37,
           1.87,
           1.71,
           1.43,
           1.82,
           1.2,
           2.26,
           1.31,
           1.74,
           1.73,
           1.33,
           1.65
          ],
          [
           1.33,
           1.32,
           1.24,
           1.64,
           1.23,
           2.32,
           2.43,
           1.72,
           1.47,
           1.3,
           1.4,
           1.43,
           1.32,
           1.72,
           1.72,
           1.44,
           1.72,
           1.2,
           2.08,
           1.35,
           1.79,
           1.73,
           1.33,
           1.49
          ]
         ]
        }
       ],
       "layout": {
        "coloraxis": {
         "colorbar": {
          "title": {
           "text": "Violent Crimes"
          }
         },
         "colorscale": [
          [
           0,
           "#0d0887"
          ],
          [
           0.1111111111111111,
           "#46039f"
          ],
          [
           0.2222222222222222,
           "#7201a8"
          ],
          [
           0.3333333333333333,
           "#9c179e"
          ],
          [
           0.4444444444444444,
           "#bd3786"
          ],
          [
           0.5555555555555556,
           "#d8576b"
          ],
          [
           0.6666666666666666,
           "#ed7953"
          ],
          [
           0.7777777777777778,
           "#fb9f3a"
          ],
          [
           0.8888888888888888,
           "#fdca26"
          ],
          [
           1,
           "#f0f921"
          ]
         ]
        },
        "margin": {
         "t": 60
        },
        "template": {
         "data": {
          "bar": [
           {
            "error_x": {
             "color": "#2a3f5f"
            },
            "error_y": {
             "color": "#2a3f5f"
            },
            "marker": {
             "line": {
              "color": "#E5ECF6",
              "width": 0.5
             },
             "pattern": {
              "fillmode": "overlay",
              "size": 10,
              "solidity": 0.2
             }
            },
            "type": "bar"
           }
          ],
          "barpolar": [
           {
            "marker": {
             "line": {
              "color": "#E5ECF6",
              "width": 0.5
             },
             "pattern": {
              "fillmode": "overlay",
              "size": 10,
              "solidity": 0.2
             }
            },
            "type": "barpolar"
           }
          ],
          "carpet": [
           {
            "aaxis": {
             "endlinecolor": "#2a3f5f",
             "gridcolor": "white",
             "linecolor": "white",
             "minorgridcolor": "white",
             "startlinecolor": "#2a3f5f"
            },
            "baxis": {
             "endlinecolor": "#2a3f5f",
             "gridcolor": "white",
             "linecolor": "white",
             "minorgridcolor": "white",
             "startlinecolor": "#2a3f5f"
            },
            "type": "carpet"
           }
          ],
          "choropleth": [
           {
            "colorbar": {
             "outlinewidth": 0,
             "ticks": ""
            },
            "type": "choropleth"
           }
          ],
          "contour": [
           {
            "colorbar": {
             "outlinewidth": 0,
             "ticks": ""
            },
            "colorscale": [
             [
              0,
              "#0d0887"
             ],
             [
              0.1111111111111111,
              "#46039f"
             ],
             [
              0.2222222222222222,
              "#7201a8"
             ],
             [
              0.3333333333333333,
              "#9c179e"
             ],
             [
              0.4444444444444444,
              "#bd3786"
             ],
             [
              0.5555555555555556,
              "#d8576b"
             ],
             [
              0.6666666666666666,
              "#ed7953"
             ],
             [
              0.7777777777777778,
              "#fb9f3a"
             ],
             [
              0.8888888888888888,
              "#fdca26"
             ],
             [
              1,
              "#f0f921"
             ]
            ],
            "type": "contour"
           }
          ],
          "contourcarpet": [
           {
            "colorbar": {
             "outlinewidth": 0,
             "ticks": ""
            },
            "type": "contourcarpet"
           }
          ],
          "heatmap": [
           {
            "colorbar": {
             "outlinewidth": 0,
             "ticks": ""
            },
            "colorscale": [
             [
              0,
              "#0d0887"
             ],
             [
              0.1111111111111111,
              "#46039f"
             ],
             [
              0.2222222222222222,
              "#7201a8"
             ],
             [
              0.3333333333333333,
              "#9c179e"
             ],
             [
              0.4444444444444444,
              "#bd3786"
             ],
             [
              0.5555555555555556,
              "#d8576b"
             ],
             [
              0.6666666666666666,
              "#ed7953"
             ],
             [
              0.7777777777777778,
              "#fb9f3a"
             ],
             [
              0.8888888888888888,
              "#fdca26"
             ],
             [
              1,
              "#f0f921"
             ]
            ],
            "type": "heatmap"
           }
          ],
          "heatmapgl": [
           {
            "colorbar": {
             "outlinewidth": 0,
             "ticks": ""
            },
            "colorscale": [
             [
              0,
              "#0d0887"
             ],
             [
              0.1111111111111111,
              "#46039f"
             ],
             [
              0.2222222222222222,
              "#7201a8"
             ],
             [
              0.3333333333333333,
              "#9c179e"
             ],
             [
              0.4444444444444444,
              "#bd3786"
             ],
             [
              0.5555555555555556,
              "#d8576b"
             ],
             [
              0.6666666666666666,
              "#ed7953"
             ],
             [
              0.7777777777777778,
              "#fb9f3a"
             ],
             [
              0.8888888888888888,
              "#fdca26"
             ],
             [
              1,
              "#f0f921"
             ]
            ],
            "type": "heatmapgl"
           }
          ],
          "histogram": [
           {
            "marker": {
             "pattern": {
              "fillmode": "overlay",
              "size": 10,
              "solidity": 0.2
             }
            },
            "type": "histogram"
           }
          ],
          "histogram2d": [
           {
            "colorbar": {
             "outlinewidth": 0,
             "ticks": ""
            },
            "colorscale": [
             [
              0,
              "#0d0887"
             ],
             [
              0.1111111111111111,
              "#46039f"
             ],
             [
              0.2222222222222222,
              "#7201a8"
             ],
             [
              0.3333333333333333,
              "#9c179e"
             ],
             [
              0.4444444444444444,
              "#bd3786"
             ],
             [
              0.5555555555555556,
              "#d8576b"
             ],
             [
              0.6666666666666666,
              "#ed7953"
             ],
             [
              0.7777777777777778,
              "#fb9f3a"
             ],
             [
              0.8888888888888888,
              "#fdca26"
             ],
             [
              1,
              "#f0f921"
             ]
            ],
            "type": "histogram2d"
           }
          ],
          "histogram2dcontour": [
           {
            "colorbar": {
             "outlinewidth": 0,
             "ticks": ""
            },
            "colorscale": [
             [
              0,
              "#0d0887"
             ],
             [
              0.1111111111111111,
              "#46039f"
             ],
             [
              0.2222222222222222,
              "#7201a8"
             ],
             [
              0.3333333333333333,
              "#9c179e"
             ],
             [
              0.4444444444444444,
              "#bd3786"
             ],
             [
              0.5555555555555556,
              "#d8576b"
             ],
             [
              0.6666666666666666,
              "#ed7953"
             ],
             [
              0.7777777777777778,
              "#fb9f3a"
             ],
             [
              0.8888888888888888,
              "#fdca26"
             ],
             [
              1,
              "#f0f921"
             ]
            ],
            "type": "histogram2dcontour"
           }
          ],
          "mesh3d": [
           {
            "colorbar": {
             "outlinewidth": 0,
             "ticks": ""
            },
            "type": "mesh3d"
           }
          ],
          "parcoords": [
           {
            "line": {
             "colorbar": {
              "outlinewidth": 0,
              "ticks": ""
             }
            },
            "type": "parcoords"
           }
          ],
          "pie": [
           {
            "automargin": true,
            "type": "pie"
           }
          ],
          "scatter": [
           {
            "fillpattern": {
             "fillmode": "overlay",
             "size": 10,
             "solidity": 0.2
            },
            "type": "scatter"
           }
          ],
          "scatter3d": [
           {
            "line": {
             "colorbar": {
              "outlinewidth": 0,
              "ticks": ""
             }
            },
            "marker": {
             "colorbar": {
              "outlinewidth": 0,
              "ticks": ""
             }
            },
            "type": "scatter3d"
           }
          ],
          "scattercarpet": [
           {
            "marker": {
             "colorbar": {
              "outlinewidth": 0,
              "ticks": ""
             }
            },
            "type": "scattercarpet"
           }
          ],
          "scattergeo": [
           {
            "marker": {
             "colorbar": {
              "outlinewidth": 0,
              "ticks": ""
             }
            },
            "type": "scattergeo"
           }
          ],
          "scattergl": [
           {
            "marker": {
             "colorbar": {
              "outlinewidth": 0,
              "ticks": ""
             }
            },
            "type": "scattergl"
           }
          ],
          "scattermapbox": [
           {
            "marker": {
             "colorbar": {
              "outlinewidth": 0,
              "ticks": ""
             }
            },
            "type": "scattermapbox"
           }
          ],
          "scatterpolar": [
           {
            "marker": {
             "colorbar": {
              "outlinewidth": 0,
              "ticks": ""
             }
            },
            "type": "scatterpolar"
           }
          ],
          "scatterpolargl": [
           {
            "marker": {
             "colorbar": {
              "outlinewidth": 0,
              "ticks": ""
             }
            },
            "type": "scatterpolargl"
           }
          ],
          "scatterternary": [
           {
            "marker": {
             "colorbar": {
              "outlinewidth": 0,
              "ticks": ""
             }
            },
            "type": "scatterternary"
           }
          ],
          "surface": [
           {
            "colorbar": {
             "outlinewidth": 0,
             "ticks": ""
            },
            "colorscale": [
             [
              0,
              "#0d0887"
             ],
             [
              0.1111111111111111,
              "#46039f"
             ],
             [
              0.2222222222222222,
              "#7201a8"
             ],
             [
              0.3333333333333333,
              "#9c179e"
             ],
             [
              0.4444444444444444,
              "#bd3786"
             ],
             [
              0.5555555555555556,
              "#d8576b"
             ],
             [
              0.6666666666666666,
              "#ed7953"
             ],
             [
              0.7777777777777778,
              "#fb9f3a"
             ],
             [
              0.8888888888888888,
              "#fdca26"
             ],
             [
              1,
              "#f0f921"
             ]
            ],
            "type": "surface"
           }
          ],
          "table": [
           {
            "cells": {
             "fill": {
              "color": "#EBF0F8"
             },
             "line": {
              "color": "white"
             }
            },
            "header": {
             "fill": {
              "color": "#C8D4E3"
             },
             "line": {
              "color": "white"
             }
            },
            "type": "table"
           }
          ]
         },
         "layout": {
          "annotationdefaults": {
           "arrowcolor": "#2a3f5f",
           "arrowhead": 0,
           "arrowwidth": 1
          },
          "autotypenumbers": "strict",
          "coloraxis": {
           "colorbar": {
            "outlinewidth": 0,
            "ticks": ""
           }
          },
          "colorscale": {
           "diverging": [
            [
             0,
             "#8e0152"
            ],
            [
             0.1,
             "#c51b7d"
            ],
            [
             0.2,
             "#de77ae"
            ],
            [
             0.3,
             "#f1b6da"
            ],
            [
             0.4,
             "#fde0ef"
            ],
            [
             0.5,
             "#f7f7f7"
            ],
            [
             0.6,
             "#e6f5d0"
            ],
            [
             0.7,
             "#b8e186"
            ],
            [
             0.8,
             "#7fbc41"
            ],
            [
             0.9,
             "#4d9221"
            ],
            [
             1,
             "#276419"
            ]
           ],
           "sequential": [
            [
             0,
             "#0d0887"
            ],
            [
             0.1111111111111111,
             "#46039f"
            ],
            [
             0.2222222222222222,
             "#7201a8"
            ],
            [
             0.3333333333333333,
             "#9c179e"
            ],
            [
             0.4444444444444444,
             "#bd3786"
            ],
            [
             0.5555555555555556,
             "#d8576b"
            ],
            [
             0.6666666666666666,
             "#ed7953"
            ],
            [
             0.7777777777777778,
             "#fb9f3a"
            ],
            [
             0.8888888888888888,
             "#fdca26"
            ],
            [
             1,
             "#f0f921"
            ]
           ],
           "sequentialminus": [
            [
             0,
             "#0d0887"
            ],
            [
             0.1111111111111111,
             "#46039f"
            ],
            [
             0.2222222222222222,
             "#7201a8"
            ],
            [
             0.3333333333333333,
             "#9c179e"
            ],
            [
             0.4444444444444444,
             "#bd3786"
            ],
            [
             0.5555555555555556,
             "#d8576b"
            ],
            [
             0.6666666666666666,
             "#ed7953"
            ],
            [
             0.7777777777777778,
             "#fb9f3a"
            ],
            [
             0.8888888888888888,
             "#fdca26"
            ],
            [
             1,
             "#f0f921"
            ]
           ]
          },
          "colorway": [
           "#636efa",
           "#EF553B",
           "#00cc96",
           "#ab63fa",
           "#FFA15A",
           "#19d3f3",
           "#FF6692",
           "#B6E880",
           "#FF97FF",
           "#FECB52"
          ],
          "font": {
           "color": "#2a3f5f"
          },
          "geo": {
           "bgcolor": "white",
           "lakecolor": "white",
           "landcolor": "#E5ECF6",
           "showlakes": true,
           "showland": true,
           "subunitcolor": "white"
          },
          "hoverlabel": {
           "align": "left"
          },
          "hovermode": "closest",
          "mapbox": {
           "style": "light"
          },
          "paper_bgcolor": "white",
          "plot_bgcolor": "#E5ECF6",
          "polar": {
           "angularaxis": {
            "gridcolor": "white",
            "linecolor": "white",
            "ticks": ""
           },
           "bgcolor": "#E5ECF6",
           "radialaxis": {
            "gridcolor": "white",
            "linecolor": "white",
            "ticks": ""
           }
          },
          "scene": {
           "xaxis": {
            "backgroundcolor": "#E5ECF6",
            "gridcolor": "white",
            "gridwidth": 2,
            "linecolor": "white",
            "showbackground": true,
            "ticks": "",
            "zerolinecolor": "white"
           },
           "yaxis": {
            "backgroundcolor": "#E5ECF6",
            "gridcolor": "white",
            "gridwidth": 2,
            "linecolor": "white",
            "showbackground": true,
            "ticks": "",
            "zerolinecolor": "white"
           },
           "zaxis": {
            "backgroundcolor": "#E5ECF6",
            "gridcolor": "white",
            "gridwidth": 2,
            "linecolor": "white",
            "showbackground": true,
            "ticks": "",
            "zerolinecolor": "white"
           }
          },
          "shapedefaults": {
           "line": {
            "color": "#2a3f5f"
           }
          },
          "ternary": {
           "aaxis": {
            "gridcolor": "white",
            "linecolor": "white",
            "ticks": ""
           },
           "baxis": {
            "gridcolor": "white",
            "linecolor": "white",
            "ticks": ""
           },
           "bgcolor": "#E5ECF6",
           "caxis": {
            "gridcolor": "white",
            "linecolor": "white",
            "ticks": ""
           }
          },
          "title": {
           "x": 0.05
          },
          "xaxis": {
           "automargin": true,
           "gridcolor": "white",
           "linecolor": "white",
           "ticks": "",
           "title": {
            "standoff": 15
           },
           "zerolinecolor": "white",
           "zerolinewidth": 2
          },
          "yaxis": {
           "automargin": true,
           "gridcolor": "white",
           "linecolor": "white",
           "ticks": "",
           "title": {
            "standoff": 15
           },
           "zerolinecolor": "white",
           "zerolinewidth": 2
          }
         }
        },
        "title": {
         "text": "Violent Crimes Heatmap"
        },
        "xaxis": {
         "anchor": "y",
         "constrain": "domain",
         "domain": [
          0,
          1
         ],
         "scaleanchor": "y",
         "title": {
          "text": "Hour"
         }
        },
        "yaxis": {
         "anchor": "x",
         "autorange": "reversed",
         "constrain": "domain",
         "domain": [
          0,
          1
         ],
         "title": {
          "text": "Day"
         }
        }
       }
      }
     },
     "metadata": {},
     "output_type": "display_data"
    }
   ],
   "source": [
    "fig = px.imshow(matrix,\n",
    "                labels=dict(x=\"Hour\", y=\"Day\", color=\"Violent Crimes\"),\n",
    "                y=['Mon', 'Tue', 'Wed', 'Thu', 'Fri', 'Sat', 'Sun'],\n",
    "                x=['0', '1', '2', '3', '4', '5', '6', '7', '8', '9', '10', '11', '12',\n",
    "                   '13', '14', '15', '16', '17', '18', '19', '20', '21', '22', '23'])\n",
    "\n",
    "# Update layout\n",
    "fig.update_layout(title='Violent Crimes Heatmap')\n",
    "fig.show()\n"
   ]
  },
  {
   "cell_type": "markdown",
   "metadata": {},
   "source": [
    "### Maps"
   ]
  },
  {
   "cell_type": "code",
   "execution_count": 46,
   "metadata": {},
   "outputs": [],
   "source": [
    "day_week_f = 'DayOfWeek_' + 'Mon'\n",
    "hour_f = 'hour_' + str(20)\n",
    "new_obs_filtered = new_obs[(new_obs[day_week_f] == True) & (new_obs[hour_f] == True)]\n"
   ]
  },
  {
   "cell_type": "code",
   "execution_count": 76,
   "metadata": {},
   "outputs": [],
   "source": [
    "selected_model_p = None\n",
    "beat_counts = {}\n",
    "for model_name, model in trained_models:\n",
    "    if 'Beat' in model_name:\n",
    "        selected_model_p = model\n",
    "        count = sum(selected_model.predict(new_obs))\n",
    "        beat_counts[model_name.replace(\"_model\", \"\").replace(\"Beat_\",\"\")] = round(count)"
   ]
  },
  {
   "cell_type": "code",
   "execution_count": 87,
   "metadata": {},
   "outputs": [
    {
     "name": "stdout",
     "output_type": "stream",
     "text": [
      "<class 'pandas.core.frame.DataFrame'>\n",
      "RangeIndex: 39 entries, 0 to 38\n",
      "Data columns (total 5 columns):\n",
      " #   Column   Non-Null Count  Dtype  \n",
      "---  ------   --------------  -----  \n",
      " 0   Beat     39 non-null     int64  \n",
      " 1   max_lon  39 non-null     float64\n",
      " 2   min_lon  39 non-null     float64\n",
      " 3   max_lat  39 non-null     float64\n",
      " 4   min_lat  39 non-null     float64\n",
      "dtypes: float64(4), int64(1)\n",
      "memory usage: 1.7 KB\n"
     ]
    }
   ],
   "source": [
    "beat_df.info()"
   ]
  },
  {
   "cell_type": "code",
   "execution_count": 80,
   "metadata": {},
   "outputs": [],
   "source": [
    "beat = pd.DataFrame(list(beat_counts.items()), columns=['Beat', 'Value'])\n",
    "beat = beat.sort_values('Value').head(3)"
   ]
  },
  {
   "cell_type": "code",
   "execution_count": 98,
   "metadata": {},
   "outputs": [],
   "source": [
    "# Find all the latitude and longitude borders of all the chicago beats\n",
    "\n",
    "def create_polygon(df):\n",
    "    polygons = []\n",
    "    for i in range(len(df)):\n",
    "        lat = [df.loc[i, \"max_lat\"], df.loc[i, \"min_lat\"], df.loc[i, \"min_lat\"], df.loc[i, \"max_lat\"], df.loc[i, \"max_lat\"], None]\n",
    "        lon = [df.loc[i, \"max_lon\"], df.loc[i, \"max_lon\"], df.loc[i, \"min_lon\"], df.loc[i, \"min_lon\"], df.loc[i, \"max_lon\"], None]\n",
    "        polygons.append({'lat': lat, 'lon': lon})\n",
    "    return polygons\n",
    "\n",
    "# Create polygons from coordinates\n",
    "polygons = create_polygon(beat_df)\n",
    "\n",
    "def convert_to_plotly_format(polygons):\n",
    "    lon = []\n",
    "    lat = []\n",
    "    \n",
    "    for polygon in polygons:\n",
    "        lon.extend(polygon['lon'])\n",
    "        lat.extend(polygon['lat'])\n",
    "    \n",
    "    # Add None between polygons to separate them\n",
    "    lon.append(None)\n",
    "    lat.append(None)\n",
    "    \n",
    "    return lon, lat\n",
    "\n",
    "longitute, latitude = convert_to_plotly_format(polygons)"
   ]
  },
  {
   "cell_type": "code",
   "execution_count": 106,
   "metadata": {},
   "outputs": [
    {
     "data": {
      "application/vnd.plotly.v1+json": {
       "config": {
        "plotlyServerURL": "https://plot.ly"
       },
       "data": [
        {
         "fill": "toself",
         "lat": [
          41.902664731,
          41.887591767,
          41.887591767,
          41.902664731,
          41.902664731,
          null,
          41.902752798,
          41.893538676,
          41.893538676,
          41.902752798,
          41.902752798,
          null,
          41.887649219,
          41.876846894,
          41.876846894,
          41.887649219,
          41.887649219,
          null,
          41.887779564,
          41.881942184,
          41.881942184,
          41.887779564,
          41.887779564,
          null,
          41.882028183,
          41.876974619,
          41.876974619,
          41.882028183,
          41.882028183,
          null,
          41.902825535,
          41.88997422,
          41.88997422,
          41.902825535,
          41.902825535,
          null,
          41.893623838,
          41.877096,
          41.877096,
          41.893623838,
          41.893623838,
          null,
          41.890062195,
          41.877219644,
          41.877219644,
          41.890062195,
          41.890062195,
          null,
          41.88107271,
          41.875887439,
          41.875887439,
          41.88107271,
          41.88107271,
          null,
          41.881156174,
          41.875984172,
          41.875984172,
          41.881156174,
          41.881156174,
          null,
          41.876990173,
          41.865903527,
          41.865903527,
          41.876990173,
          41.876990173,
          null,
          41.877112132,
          41.866075655,
          41.866075655,
          41.877112132,
          41.877112132,
          null,
          41.877268465,
          41.866209963,
          41.866209963,
          41.877268465,
          41.877268465,
          null,
          41.877324023,
          41.866356572,
          41.866356572,
          41.877324023,
          41.877324023,
          null,
          41.876076856,
          41.86646434,
          41.86646434,
          41.876076856,
          41.876076856,
          null,
          null
         ],
         "lon": [
          -87.725870759,
          -87.725870759,
          -87.745963918,
          -87.745963918,
          -87.725870759,
          null,
          -87.71627324,
          -87.71627324,
          -87.72627855,
          -87.72627855,
          -87.71627324,
          null,
          -87.735360164,
          -87.735360164,
          -87.745534061,
          -87.745534061,
          -87.735360164,
          null,
          -87.72571112,
          -87.72571112,
          -87.735651142,
          -87.735651142,
          -87.72571112,
          null,
          -87.725558467,
          -87.725558467,
          -87.735490711,
          -87.735490711,
          -87.725558467,
          null,
          -87.706391436,
          -87.706391436,
          -87.716552713,
          -87.716552713,
          -87.706391436,
          null,
          -87.715276853,
          -87.715276853,
          -87.72601898,
          -87.72601898,
          -87.715276853,
          null,
          -87.706129894,
          -87.706129894,
          -87.716836788,
          -87.716836788,
          -87.706129894,
          null,
          -87.696158143,
          -87.696158143,
          -87.710994637,
          -87.710994637,
          -87.696158143,
          null,
          -87.686319451,
          -87.686319451,
          -87.696284653,
          -87.696284653,
          -87.686319451,
          null,
          -87.7324995,
          -87.7324995,
          -87.745137513,
          -87.745137513,
          -87.7324995,
          null,
          -87.722752323,
          -87.722752323,
          -87.732893646,
          -87.732893646,
          -87.722752323,
          null,
          -87.68922688,
          -87.68922688,
          -87.72582526,
          -87.72582526,
          -87.68922688,
          null,
          -87.700799279,
          -87.700799279,
          -87.710883629,
          -87.710883629,
          -87.700799279,
          null,
          -87.68605275,
          -87.68605275,
          -87.701071683,
          -87.701071683,
          -87.68605275,
          null,
          null
         ],
         "mode": "lines",
         "type": "scattermapbox"
        }
       ],
       "layout": {
        "mapbox": {
         "center": {
          "lat": 41.8877,
          "lon": -87.7257
         },
         "style": "open-street-map",
         "zoom": 12
        },
        "margin": {
         "b": 0,
         "l": 0,
         "r": 0,
         "t": 0
        },
        "showlegend": false,
        "template": {
         "data": {
          "bar": [
           {
            "error_x": {
             "color": "#2a3f5f"
            },
            "error_y": {
             "color": "#2a3f5f"
            },
            "marker": {
             "line": {
              "color": "#E5ECF6",
              "width": 0.5
             },
             "pattern": {
              "fillmode": "overlay",
              "size": 10,
              "solidity": 0.2
             }
            },
            "type": "bar"
           }
          ],
          "barpolar": [
           {
            "marker": {
             "line": {
              "color": "#E5ECF6",
              "width": 0.5
             },
             "pattern": {
              "fillmode": "overlay",
              "size": 10,
              "solidity": 0.2
             }
            },
            "type": "barpolar"
           }
          ],
          "carpet": [
           {
            "aaxis": {
             "endlinecolor": "#2a3f5f",
             "gridcolor": "white",
             "linecolor": "white",
             "minorgridcolor": "white",
             "startlinecolor": "#2a3f5f"
            },
            "baxis": {
             "endlinecolor": "#2a3f5f",
             "gridcolor": "white",
             "linecolor": "white",
             "minorgridcolor": "white",
             "startlinecolor": "#2a3f5f"
            },
            "type": "carpet"
           }
          ],
          "choropleth": [
           {
            "colorbar": {
             "outlinewidth": 0,
             "ticks": ""
            },
            "type": "choropleth"
           }
          ],
          "contour": [
           {
            "colorbar": {
             "outlinewidth": 0,
             "ticks": ""
            },
            "colorscale": [
             [
              0,
              "#0d0887"
             ],
             [
              0.1111111111111111,
              "#46039f"
             ],
             [
              0.2222222222222222,
              "#7201a8"
             ],
             [
              0.3333333333333333,
              "#9c179e"
             ],
             [
              0.4444444444444444,
              "#bd3786"
             ],
             [
              0.5555555555555556,
              "#d8576b"
             ],
             [
              0.6666666666666666,
              "#ed7953"
             ],
             [
              0.7777777777777778,
              "#fb9f3a"
             ],
             [
              0.8888888888888888,
              "#fdca26"
             ],
             [
              1,
              "#f0f921"
             ]
            ],
            "type": "contour"
           }
          ],
          "contourcarpet": [
           {
            "colorbar": {
             "outlinewidth": 0,
             "ticks": ""
            },
            "type": "contourcarpet"
           }
          ],
          "heatmap": [
           {
            "colorbar": {
             "outlinewidth": 0,
             "ticks": ""
            },
            "colorscale": [
             [
              0,
              "#0d0887"
             ],
             [
              0.1111111111111111,
              "#46039f"
             ],
             [
              0.2222222222222222,
              "#7201a8"
             ],
             [
              0.3333333333333333,
              "#9c179e"
             ],
             [
              0.4444444444444444,
              "#bd3786"
             ],
             [
              0.5555555555555556,
              "#d8576b"
             ],
             [
              0.6666666666666666,
              "#ed7953"
             ],
             [
              0.7777777777777778,
              "#fb9f3a"
             ],
             [
              0.8888888888888888,
              "#fdca26"
             ],
             [
              1,
              "#f0f921"
             ]
            ],
            "type": "heatmap"
           }
          ],
          "heatmapgl": [
           {
            "colorbar": {
             "outlinewidth": 0,
             "ticks": ""
            },
            "colorscale": [
             [
              0,
              "#0d0887"
             ],
             [
              0.1111111111111111,
              "#46039f"
             ],
             [
              0.2222222222222222,
              "#7201a8"
             ],
             [
              0.3333333333333333,
              "#9c179e"
             ],
             [
              0.4444444444444444,
              "#bd3786"
             ],
             [
              0.5555555555555556,
              "#d8576b"
             ],
             [
              0.6666666666666666,
              "#ed7953"
             ],
             [
              0.7777777777777778,
              "#fb9f3a"
             ],
             [
              0.8888888888888888,
              "#fdca26"
             ],
             [
              1,
              "#f0f921"
             ]
            ],
            "type": "heatmapgl"
           }
          ],
          "histogram": [
           {
            "marker": {
             "pattern": {
              "fillmode": "overlay",
              "size": 10,
              "solidity": 0.2
             }
            },
            "type": "histogram"
           }
          ],
          "histogram2d": [
           {
            "colorbar": {
             "outlinewidth": 0,
             "ticks": ""
            },
            "colorscale": [
             [
              0,
              "#0d0887"
             ],
             [
              0.1111111111111111,
              "#46039f"
             ],
             [
              0.2222222222222222,
              "#7201a8"
             ],
             [
              0.3333333333333333,
              "#9c179e"
             ],
             [
              0.4444444444444444,
              "#bd3786"
             ],
             [
              0.5555555555555556,
              "#d8576b"
             ],
             [
              0.6666666666666666,
              "#ed7953"
             ],
             [
              0.7777777777777778,
              "#fb9f3a"
             ],
             [
              0.8888888888888888,
              "#fdca26"
             ],
             [
              1,
              "#f0f921"
             ]
            ],
            "type": "histogram2d"
           }
          ],
          "histogram2dcontour": [
           {
            "colorbar": {
             "outlinewidth": 0,
             "ticks": ""
            },
            "colorscale": [
             [
              0,
              "#0d0887"
             ],
             [
              0.1111111111111111,
              "#46039f"
             ],
             [
              0.2222222222222222,
              "#7201a8"
             ],
             [
              0.3333333333333333,
              "#9c179e"
             ],
             [
              0.4444444444444444,
              "#bd3786"
             ],
             [
              0.5555555555555556,
              "#d8576b"
             ],
             [
              0.6666666666666666,
              "#ed7953"
             ],
             [
              0.7777777777777778,
              "#fb9f3a"
             ],
             [
              0.8888888888888888,
              "#fdca26"
             ],
             [
              1,
              "#f0f921"
             ]
            ],
            "type": "histogram2dcontour"
           }
          ],
          "mesh3d": [
           {
            "colorbar": {
             "outlinewidth": 0,
             "ticks": ""
            },
            "type": "mesh3d"
           }
          ],
          "parcoords": [
           {
            "line": {
             "colorbar": {
              "outlinewidth": 0,
              "ticks": ""
             }
            },
            "type": "parcoords"
           }
          ],
          "pie": [
           {
            "automargin": true,
            "type": "pie"
           }
          ],
          "scatter": [
           {
            "fillpattern": {
             "fillmode": "overlay",
             "size": 10,
             "solidity": 0.2
            },
            "type": "scatter"
           }
          ],
          "scatter3d": [
           {
            "line": {
             "colorbar": {
              "outlinewidth": 0,
              "ticks": ""
             }
            },
            "marker": {
             "colorbar": {
              "outlinewidth": 0,
              "ticks": ""
             }
            },
            "type": "scatter3d"
           }
          ],
          "scattercarpet": [
           {
            "marker": {
             "colorbar": {
              "outlinewidth": 0,
              "ticks": ""
             }
            },
            "type": "scattercarpet"
           }
          ],
          "scattergeo": [
           {
            "marker": {
             "colorbar": {
              "outlinewidth": 0,
              "ticks": ""
             }
            },
            "type": "scattergeo"
           }
          ],
          "scattergl": [
           {
            "marker": {
             "colorbar": {
              "outlinewidth": 0,
              "ticks": ""
             }
            },
            "type": "scattergl"
           }
          ],
          "scattermapbox": [
           {
            "marker": {
             "colorbar": {
              "outlinewidth": 0,
              "ticks": ""
             }
            },
            "type": "scattermapbox"
           }
          ],
          "scatterpolar": [
           {
            "marker": {
             "colorbar": {
              "outlinewidth": 0,
              "ticks": ""
             }
            },
            "type": "scatterpolar"
           }
          ],
          "scatterpolargl": [
           {
            "marker": {
             "colorbar": {
              "outlinewidth": 0,
              "ticks": ""
             }
            },
            "type": "scatterpolargl"
           }
          ],
          "scatterternary": [
           {
            "marker": {
             "colorbar": {
              "outlinewidth": 0,
              "ticks": ""
             }
            },
            "type": "scatterternary"
           }
          ],
          "surface": [
           {
            "colorbar": {
             "outlinewidth": 0,
             "ticks": ""
            },
            "colorscale": [
             [
              0,
              "#0d0887"
             ],
             [
              0.1111111111111111,
              "#46039f"
             ],
             [
              0.2222222222222222,
              "#7201a8"
             ],
             [
              0.3333333333333333,
              "#9c179e"
             ],
             [
              0.4444444444444444,
              "#bd3786"
             ],
             [
              0.5555555555555556,
              "#d8576b"
             ],
             [
              0.6666666666666666,
              "#ed7953"
             ],
             [
              0.7777777777777778,
              "#fb9f3a"
             ],
             [
              0.8888888888888888,
              "#fdca26"
             ],
             [
              1,
              "#f0f921"
             ]
            ],
            "type": "surface"
           }
          ],
          "table": [
           {
            "cells": {
             "fill": {
              "color": "#EBF0F8"
             },
             "line": {
              "color": "white"
             }
            },
            "header": {
             "fill": {
              "color": "#C8D4E3"
             },
             "line": {
              "color": "white"
             }
            },
            "type": "table"
           }
          ]
         },
         "layout": {
          "annotationdefaults": {
           "arrowcolor": "#2a3f5f",
           "arrowhead": 0,
           "arrowwidth": 1
          },
          "autotypenumbers": "strict",
          "coloraxis": {
           "colorbar": {
            "outlinewidth": 0,
            "ticks": ""
           }
          },
          "colorscale": {
           "diverging": [
            [
             0,
             "#8e0152"
            ],
            [
             0.1,
             "#c51b7d"
            ],
            [
             0.2,
             "#de77ae"
            ],
            [
             0.3,
             "#f1b6da"
            ],
            [
             0.4,
             "#fde0ef"
            ],
            [
             0.5,
             "#f7f7f7"
            ],
            [
             0.6,
             "#e6f5d0"
            ],
            [
             0.7,
             "#b8e186"
            ],
            [
             0.8,
             "#7fbc41"
            ],
            [
             0.9,
             "#4d9221"
            ],
            [
             1,
             "#276419"
            ]
           ],
           "sequential": [
            [
             0,
             "#0d0887"
            ],
            [
             0.1111111111111111,
             "#46039f"
            ],
            [
             0.2222222222222222,
             "#7201a8"
            ],
            [
             0.3333333333333333,
             "#9c179e"
            ],
            [
             0.4444444444444444,
             "#bd3786"
            ],
            [
             0.5555555555555556,
             "#d8576b"
            ],
            [
             0.6666666666666666,
             "#ed7953"
            ],
            [
             0.7777777777777778,
             "#fb9f3a"
            ],
            [
             0.8888888888888888,
             "#fdca26"
            ],
            [
             1,
             "#f0f921"
            ]
           ],
           "sequentialminus": [
            [
             0,
             "#0d0887"
            ],
            [
             0.1111111111111111,
             "#46039f"
            ],
            [
             0.2222222222222222,
             "#7201a8"
            ],
            [
             0.3333333333333333,
             "#9c179e"
            ],
            [
             0.4444444444444444,
             "#bd3786"
            ],
            [
             0.5555555555555556,
             "#d8576b"
            ],
            [
             0.6666666666666666,
             "#ed7953"
            ],
            [
             0.7777777777777778,
             "#fb9f3a"
            ],
            [
             0.8888888888888888,
             "#fdca26"
            ],
            [
             1,
             "#f0f921"
            ]
           ]
          },
          "colorway": [
           "#636efa",
           "#EF553B",
           "#00cc96",
           "#ab63fa",
           "#FFA15A",
           "#19d3f3",
           "#FF6692",
           "#B6E880",
           "#FF97FF",
           "#FECB52"
          ],
          "font": {
           "color": "#2a3f5f"
          },
          "geo": {
           "bgcolor": "white",
           "lakecolor": "white",
           "landcolor": "#E5ECF6",
           "showlakes": true,
           "showland": true,
           "subunitcolor": "white"
          },
          "hoverlabel": {
           "align": "left"
          },
          "hovermode": "closest",
          "mapbox": {
           "style": "light"
          },
          "paper_bgcolor": "white",
          "plot_bgcolor": "#E5ECF6",
          "polar": {
           "angularaxis": {
            "gridcolor": "white",
            "linecolor": "white",
            "ticks": ""
           },
           "bgcolor": "#E5ECF6",
           "radialaxis": {
            "gridcolor": "white",
            "linecolor": "white",
            "ticks": ""
           }
          },
          "scene": {
           "xaxis": {
            "backgroundcolor": "#E5ECF6",
            "gridcolor": "white",
            "gridwidth": 2,
            "linecolor": "white",
            "showbackground": true,
            "ticks": "",
            "zerolinecolor": "white"
           },
           "yaxis": {
            "backgroundcolor": "#E5ECF6",
            "gridcolor": "white",
            "gridwidth": 2,
            "linecolor": "white",
            "showbackground": true,
            "ticks": "",
            "zerolinecolor": "white"
           },
           "zaxis": {
            "backgroundcolor": "#E5ECF6",
            "gridcolor": "white",
            "gridwidth": 2,
            "linecolor": "white",
            "showbackground": true,
            "ticks": "",
            "zerolinecolor": "white"
           }
          },
          "shapedefaults": {
           "line": {
            "color": "#2a3f5f"
           }
          },
          "ternary": {
           "aaxis": {
            "gridcolor": "white",
            "linecolor": "white",
            "ticks": ""
           },
           "baxis": {
            "gridcolor": "white",
            "linecolor": "white",
            "ticks": ""
           },
           "bgcolor": "#E5ECF6",
           "caxis": {
            "gridcolor": "white",
            "linecolor": "white",
            "ticks": ""
           }
          },
          "title": {
           "x": 0.05
          },
          "xaxis": {
           "automargin": true,
           "gridcolor": "white",
           "linecolor": "white",
           "ticks": "",
           "title": {
            "standoff": 15
           },
           "zerolinecolor": "white",
           "zerolinewidth": 2
          },
          "yaxis": {
           "automargin": true,
           "gridcolor": "white",
           "linecolor": "white",
           "ticks": "",
           "title": {
            "standoff": 15
           },
           "zerolinecolor": "white",
           "zerolinewidth": 2
          }
         }
        }
       }
      }
     },
     "metadata": {},
     "output_type": "display_data"
    }
   ],
   "source": [
    "import plotly.graph_objects as go\n",
    "\n",
    "fig = go.Figure(go.Scattermapbox(\n",
    "    mode = \"lines\", fill = \"toself\",\n",
    "    lon = longitute,\n",
    "    lat = latitude))\n",
    "\n",
    "fig.update_layout(\n",
    "    mapbox = {'style': \"open-street-map\", 'center': {'lon': -87.7257, 'lat': 41.8877}, 'zoom': 12},\n",
    "    showlegend = False,\n",
    "    margin = {'l':0, 'r':0, 'b':0, 't':0})\n",
    "\n",
    "fig.show()"
   ]
  },
  {
   "cell_type": "markdown",
   "metadata": {},
   "source": [
    "## Predictions and MSE"
   ]
  },
  {
   "cell_type": "code",
   "execution_count": 26,
   "metadata": {},
   "outputs": [
    {
     "data": {
      "text/plain": [
       "[('Primary Type_BURGLARY_model', RandomForestRegressor()),\n",
       " ('Primary Type_CRIM SEXUAL ASSAULT_model', RandomForestRegressor()),\n",
       " ('Primary Type_ROBBERY_model', RandomForestRegressor()),\n",
       " ('Primary Type_INTIMIDATION_model', RandomForestRegressor()),\n",
       " ('Primary Type_HOMICIDE_model', RandomForestRegressor()),\n",
       " ('Primary Type_KIDNAPPING_model', RandomForestRegressor()),\n",
       " ('Primary Type_HUMAN TRAFFICKING_model', RandomForestRegressor()),\n",
       " ('Beat_1111_model', RandomForestRegressor()),\n",
       " ('Beat_1112_model', RandomForestRegressor()),\n",
       " ('Beat_1113_model', RandomForestRegressor()),\n",
       " ('Beat_1114_model', RandomForestRegressor()),\n",
       " ('Beat_1115_model', RandomForestRegressor()),\n",
       " ('Beat_1121_model', RandomForestRegressor()),\n",
       " ('Beat_1122_model', RandomForestRegressor()),\n",
       " ('Beat_1123_model', RandomForestRegressor()),\n",
       " ('Beat_1124_model', RandomForestRegressor()),\n",
       " ('Beat_1125_model', RandomForestRegressor()),\n",
       " ('Beat_1131_model', RandomForestRegressor()),\n",
       " ('Beat_1132_model', RandomForestRegressor()),\n",
       " ('Beat_1133_model', RandomForestRegressor()),\n",
       " ('Beat_1134_model', RandomForestRegressor()),\n",
       " ('Beat_1135_model', RandomForestRegressor())]"
      ]
     },
     "execution_count": 26,
     "metadata": {},
     "output_type": "execute_result"
    }
   ],
   "source": [
    "trained_models[:-1]"
   ]
  },
  {
   "cell_type": "code",
   "execution_count": 25,
   "metadata": {},
   "outputs": [
    {
     "data": {
      "text/plain": [
       "Index(['Primary Type_BURGLARY', 'Primary Type_CRIM SEXUAL ASSAULT',\n",
       "       'Primary Type_ROBBERY', 'Primary Type_INTIMIDATION',\n",
       "       'Primary Type_HOMICIDE', 'Primary Type_KIDNAPPING',\n",
       "       'Primary Type_HUMAN TRAFFICKING', 'Beat_1111', 'Beat_1112', 'Beat_1113',\n",
       "       'Beat_1114', 'Beat_1115', 'Beat_1121', 'Beat_1122', 'Beat_1123',\n",
       "       'Beat_1124', 'Beat_1125', 'Beat_1131', 'Beat_1132', 'Beat_1133',\n",
       "       'Beat_1134', 'Beat_1135'],\n",
       "      dtype='object')"
      ]
     },
     "execution_count": 25,
     "metadata": {},
     "output_type": "execute_result"
    }
   ],
   "source": [
    "new_Y = Y.drop(columns= ['Primary Type_ASSAULT', 'Primary Type_BATTERY'])\n",
    "new_Y.columns[:-1]"
   ]
  },
  {
   "cell_type": "code",
   "execution_count": 27,
   "metadata": {},
   "outputs": [],
   "source": [
    "# For each model, check MSE and do average of all of them (Exccept n_crime) compare total variance\n",
    "from sklearn.metrics import mean_squared_error\n",
    "\n",
    "\n",
    "\n",
    "# Assuming y_true contains the true labels and y_pred contains the predicted labels\n",
    "mse_list = []\n",
    "for model_name, model in trained_models:\n",
    "    predictions = model.predict(X)\n",
    "    crime = model_name.replace('_model', '')\n",
    "    mse = mean_squared_error(Y[crime], predictions)\n",
    "    mse_list.append(mse)\n",
    "\n"
   ]
  },
  {
   "cell_type": "code",
   "execution_count": 34,
   "metadata": {},
   "outputs": [],
   "source": [
    "mean_list= []\n",
    "sd_list = []\n",
    "for i in Y:\n",
    "    mean_list.append(np.mean(Y[i]))\n",
    "    sd_list.append(np.std(Y[i]))"
   ]
  },
  {
   "cell_type": "code",
   "execution_count": 41,
   "metadata": {},
   "outputs": [
    {
     "name": "stdout",
     "output_type": "stream",
     "text": [
      "MSE 0.178551621340327\n",
      "Y_bar 0.6155987818056784\n",
      "Y_var 2.0357475696629486\n"
     ]
    }
   ],
   "source": [
    "print(f\"MSE {np.mean(mse_list)}\")\n",
    "print(f\"Y_bar {np.mean(mean_list)}\")\n",
    "print(f\"Y_var {np.mean(sd_list)**2}\")"
   ]
  },
  {
   "cell_type": "code",
   "execution_count": 40,
   "metadata": {},
   "outputs": [
    {
     "data": {
      "text/plain": [
       "0.027182644005632497"
      ]
     },
     "execution_count": 40,
     "metadata": {},
     "output_type": "execute_result"
    }
   ],
   "source": [
    "mse_list[-1]"
   ]
  }
 ],
 "metadata": {
  "kernelspec": {
   "display_name": "new_deep",
   "language": "python",
   "name": "python3"
  },
  "language_info": {
   "codemirror_mode": {
    "name": "ipython",
    "version": 3
   },
   "file_extension": ".py",
   "mimetype": "text/x-python",
   "name": "python",
   "nbconvert_exporter": "python",
   "pygments_lexer": "ipython3",
   "version": "3.11.5"
  }
 },
 "nbformat": 4,
 "nbformat_minor": 2
}
